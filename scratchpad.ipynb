{
 "cells": [
  {
   "cell_type": "markdown",
   "metadata": {},
   "source": [
    "# Scratchpad\n",
    "\n",
    "Over here I will start playing around with stuff and see what sticks/works!"
   ]
  },
  {
   "cell_type": "markdown",
   "metadata": {},
   "source": [
    "Here are some of the steps I took to get to the point where I was able to access the database.\n",
    "1. Downloaded the database `dump.zip` file into the `data` folder\n",
    "2. Installed mongodb via brew (see instructions [here](https://www.mongodb.com/docs/manual/tutorial/install-mongodb-on-os-x/?msockid=302ca59c4ee16b1d2d8fb14e4fe96a19))\n",
    "3. Started the MongoDB server: `brew services start mongodb-community@8.0`\n",
    "4. Checked that MongoDB was running: `brew services list`\n",
    "5. List all the databases: first entered the mongo shell by `mongosh` and then listing the databases from the shell `show dbs`\n",
    "6. Navigated to the data folder (wherein the extracted `dump` folder is), opened a terminal there\n",
    "7. mongorestore --uri=\"mongodb://localhost:27017\" --gzip\n",
    "8. `use gfibot`\n",
    "9. `show collections`\n",
    "10. Moved over to this jupyter notebook. Note that I had to install the pymongo library beforehand.\n"
   ]
  },
  {
   "cell_type": "code",
   "execution_count": 1,
   "metadata": {},
   "outputs": [],
   "source": [
    "# imports\n",
    "import polars as pl\n",
    "import pandas as pd\n",
    "from pymongo import MongoClient\n",
    "#"
   ]
  },
  {
   "cell_type": "markdown",
   "metadata": {},
   "source": [
    "Here we will connect to MongoDB and access the database and collections"
   ]
  },
  {
   "cell_type": "code",
   "execution_count": 2,
   "metadata": {},
   "outputs": [],
   "source": [
    "# connect to MongoDB\n",
    "client = MongoClient('localhost', 27017)\n",
    "\n",
    "# access the database and collections\n",
    "db = client['gfibot']\n",
    "dataset_collection = db['dataset']\n",
    "resolved_issue_collection = db['resolved_issue']"
   ]
  },
  {
   "cell_type": "code",
   "execution_count": 3,
   "metadata": {},
   "outputs": [
    {
     "name": "stdout",
     "output_type": "stream",
     "text": [
      "Sample document from 'dataset' collection: {'_id': ObjectId('62a45eefa962f9390b35f92c'), 'owner': 'OpenMined', 'name': 'PySyft', 'number': 19, 'created_at': datetime.datetime(2017, 8, 9, 20, 11, 35), 'closed_at': datetime.datetime(2017, 8, 11, 1, 22, 53), 'before': datetime.datetime(2017, 8, 9, 20, 11, 35), 'resolver_commit_num': 1, 'title': 'Implement Base Tensor Object', 'body': 'In this ticket, we want to create a new basic type called a \"Tensor\". A Tensor is a nested list of numbers with an arbitrary number of dimensions. With one dimension, it\\'s a list of numbers known as a \"vector\". With two dimensions, it\\'s a list of lists of numbers known as a \"matrix\". In this ticket, we want to build our implementation of Tensor with inspiration from PyTorch\\'s  [Tensor]() object ([Tensor Docs]()). \\r\\n\\r\\nSo, in this ticket, you should build a basic tensor class. You should be able to pass in as an argument an arbitrary shape (number of rows, columns, etc.) when you create it. Furthermore, we want this basic class to support elementwise addition, subtraction, multiplication, and division.\\r\\n\\r\\nAcceptance Criteria:\\r\\n- __init__ supports initializing a tensor with an arbitrary number of dimensions and arbitrary scalar type (test with float and int)\\r\\n- elementwise operators for +-/* and their inline operators should be overridden\\r\\n- elementwise operations should check to make sure both tensors are of identical dimension\\r\\n- elementwise operators should also support (and automatically detect!) the input of a single number, which should be applied to the entire tensor (aka... multiply every number by \"5\").\\r\\n', 'len_title': 4, 'len_body': 198, 'n_code_snips': 0, 'n_urls': 2, 'n_imgs': 0, 'coleman_liau_index': 11.08, 'flesch_reading_ease': 46.67, 'flesch_kincaid_grade': 10.7, 'automated_readability_index': 11.5, 'labels': [], 'label_category': {'bug': 0, 'feature': 0, 'test': 0, 'build': 0, 'doc': 0, 'coding': 0, 'enhance': 0, 'gfi': 0, 'medium': 0, 'major': 0, 'triaged': 0, 'untriaged': 0}, 'reporter_feat': {'name': 'iamtrask', 'n_commits': 107, 'n_issues': 6, 'n_pulls': 3, 'resolver_commits': [], 'n_repos': 18, 'n_commits_all': 518, 'n_issues_all': 0, 'n_pulls_all': 0, 'n_reviews_all': 0, 'max_stars_commit': 8148, 'max_stars_issue': 0, 'max_stars_pull': 0, 'max_stars_review': 0}, 'owner_feat': {'name': 'OpenMined', 'n_commits': 0, 'n_issues': 0, 'n_pulls': 0, 'resolver_commits': [], 'n_repos': 0, 'n_commits_all': 0, 'n_issues_all': 0, 'n_pulls_all': 0, 'n_reviews_all': 0, 'max_stars_commit': 0, 'max_stars_issue': 0, 'max_stars_pull': 0, 'max_stars_review': 0}, 'prev_resolver_commits': [], 'n_stars': 76, 'n_pulls': 76, 'n_commits': 392, 'n_contributors': 9, 'n_closed_issues': 0, 'n_open_issues': 6, 'r_open_issues': 1.0, 'issue_close_time': 0.0, 'comments': [], 'events': [], 'comment_users': [], 'event_users': []}\n",
      "Number of documents in 'dataset' collection: 296164\n",
      "Number of documents in 'resolved_issues' collection: 159919\n"
     ]
    }
   ],
   "source": [
    "# fetch a sample document from the 'dataset' collection\n",
    "sample_doc = dataset_collection.find_one()\n",
    "print(\"Sample document from 'dataset' collection:\", sample_doc)\n",
    "\n",
    "# count the number of documents in each collection\n",
    "print(\"Number of documents in 'dataset' collection:\", dataset_collection.count_documents({}))\n",
    "print(\"Number of documents in 'resolved_issues' collection:\", resolved_issue_collection.count_documents({}))"
   ]
  },
  {
   "cell_type": "markdown",
   "metadata": {},
   "source": [
    "After that noobie attempt at exploring the dataset, let's import as a dataframe. Let's try polars!"
   ]
  },
  {
   "cell_type": "code",
   "execution_count": 9,
   "metadata": {},
   "outputs": [
    {
     "name": "stdout",
     "output_type": "stream",
     "text": [
      "shape: (5, 36)\n",
      "┌────────────┬────────────┬───────────┬────────┬───┬───────────┬───────────┬───────────┬───────────┐\n",
      "│ _id        ┆ owner      ┆ name      ┆ number ┆ … ┆ comments  ┆ events    ┆ comment_u ┆ event_use │\n",
      "│ ---        ┆ ---        ┆ ---       ┆ ---    ┆   ┆ ---       ┆ ---       ┆ sers      ┆ rs        │\n",
      "│ object     ┆ str        ┆ str       ┆ i64    ┆   ┆ list[str] ┆ list[str] ┆ ---       ┆ ---       │\n",
      "│            ┆            ┆           ┆        ┆   ┆           ┆           ┆ list[stru ┆ list[stru │\n",
      "│            ┆            ┆           ┆        ┆   ┆           ┆           ┆ ct[14]]   ┆ ct[14]]   │\n",
      "╞════════════╪════════════╪═══════════╪════════╪═══╪═══════════╪═══════════╪═══════════╪═══════════╡\n",
      "│ 62a45eefa9 ┆ OpenMined  ┆ PySyft    ┆ 19     ┆ … ┆ []        ┆ []        ┆ []        ┆ []        │\n",
      "│ 62f9390b35 ┆            ┆           ┆        ┆   ┆           ┆           ┆           ┆           │\n",
      "│ f92c       ┆            ┆           ┆        ┆   ┆           ┆           ┆           ┆           │\n",
      "│ 62a45ef3ce ┆ jainaman22 ┆ Algo_Ds_N ┆ 155    ┆ … ┆ []        ┆ []        ┆ []        ┆ []        │\n",
      "│ 29c55acc35 ┆ 4          ┆ otes      ┆        ┆   ┆           ┆           ┆           ┆           │\n",
      "│ f92c       ┆            ┆           ┆        ┆   ┆           ┆           ┆           ┆           │\n",
      "│ 62a45f0ca9 ┆ OpenMined  ┆ PySyft    ┆ 19     ┆ … ┆ [\"Does    ┆ [\"labeled ┆ [{\"iamtra ┆ [{\"iamtra │\n",
      "│ 62f9390b35 ┆            ┆           ┆        ┆   ┆ this      ┆ \", \"label ┆ sk\",108,9 ┆ sk\",108,9 │\n",
      "│ f92d       ┆            ┆           ┆        ┆   ┆ depend on ┆ ed\", …    ┆ 6,3,[1],0 ┆ 6,3,[1],0 │\n",
      "│            ┆            ┆           ┆        ┆   ┆ #10?  Do… ┆ \"cros…    ┆ ,0,…      ┆ ,0,…      │\n",
      "│ 62a45f0ea9 ┆ OpenMined  ┆ PySyft    ┆ 32     ┆ … ┆ []        ┆ []        ┆ []        ┆ []        │\n",
      "│ 62f9390b35 ┆            ┆           ┆        ┆   ┆           ┆           ┆           ┆           │\n",
      "│ f92e       ┆            ┆           ┆        ┆   ┆           ┆           ┆           ┆           │\n",
      "│ 62a45f0fce ┆ jainaman22 ┆ Algo_Ds_N ┆ 155    ┆ … ┆ [\"Hey can ┆ [\"labeled ┆ [{\"palnab ┆ [{\"palnab │\n",
      "│ 29c55acc35 ┆ 4          ┆ otes      ┆        ┆   ┆ I claim   ┆ \", \"label ┆ arun\",0,0 ┆ arun\",0,0 │\n",
      "│ f92d       ┆            ┆           ┆        ┆   ┆ this      ┆ ed\", …    ┆ ,3,[],0,0 ┆ ,3,[],0,0 │\n",
      "│            ┆            ┆           ┆        ┆   ┆ issue? …  ┆ \"cros…    ┆ ,0,…      ┆ ,0,…      │\n",
      "└────────────┴────────────┴───────────┴────────┴───┴───────────┴───────────┴───────────┴───────────┘\n"
     ]
    }
   ],
   "source": [
    "# fetch documents (limit for large datasets)\n",
    "dataset_docs = list(dataset_collection.find().limit(1000))\n",
    "\n",
    "# conver to pandas df\n",
    "pandas_df = pd.DataFrame(dataset_docs)\n",
    "\n",
    "# convert to polars df\n",
    "polars_df = pl.DataFrame(dataset_docs)\n",
    "\n",
    "# print the first few rows\n",
    "print(polars_df.head(5))\n",
    "# print(pandas_df.head(5))"
   ]
  },
  {
   "cell_type": "markdown",
   "metadata": {},
   "source": [
    "Let's do some exploration..."
   ]
  },
  {
   "cell_type": "code",
   "execution_count": 13,
   "metadata": {},
   "outputs": [
    {
     "name": "stdout",
     "output_type": "stream",
     "text": [
      "number of columns in df: 36\n",
      "_id: Object\n",
      "owner: String\n",
      "name: String\n",
      "number: Int64\n",
      "created_at: Datetime(time_unit='us', time_zone=None)\n",
      "closed_at: Datetime(time_unit='us', time_zone=None)\n",
      "before: Datetime(time_unit='us', time_zone=None)\n",
      "resolver_commit_num: Int64\n",
      "title: String\n",
      "body: String\n",
      "len_title: Int64\n",
      "len_body: Int64\n",
      "n_code_snips: Int64\n",
      "n_urls: Int64\n",
      "n_imgs: Int64\n",
      "coleman_liau_index: Float64\n",
      "flesch_reading_ease: Float64\n",
      "flesch_kincaid_grade: Float64\n",
      "automated_readability_index: Float64\n",
      "labels: List(String)\n",
      "label_category: Struct({'bug': Int64, 'feature': Int64, 'test': Int64, 'build': Int64, 'doc': Int64, 'coding': Int64, 'enhance': Int64, 'gfi': Int64, 'medium': Int64, 'major': Int64, 'triaged': Int64, 'untriaged': Int64})\n",
      "reporter_feat: Struct({'name': String, 'n_commits': Int64, 'n_issues': Int64, 'n_pulls': Int64, 'resolver_commits': List(Int64), 'n_repos': Int64, 'n_commits_all': Int64, 'n_issues_all': Int64, 'n_pulls_all': Int64, 'n_reviews_all': Int64, 'max_stars_commit': Int64, 'max_stars_issue': Int64, 'max_stars_pull': Int64, 'max_stars_review': Int64})\n",
      "owner_feat: Struct({'name': String, 'n_commits': Int64, 'n_issues': Int64, 'n_pulls': Int64, 'resolver_commits': List(Int64), 'n_repos': Int64, 'n_commits_all': Int64, 'n_issues_all': Int64, 'n_pulls_all': Int64, 'n_reviews_all': Int64, 'max_stars_commit': Int64, 'max_stars_issue': Int64, 'max_stars_pull': Int64, 'max_stars_review': Int64})\n",
      "prev_resolver_commits: List(Int64)\n",
      "n_stars: Int64\n",
      "n_pulls: Int64\n",
      "n_commits: Int64\n",
      "n_contributors: Int64\n",
      "n_closed_issues: Int64\n",
      "n_open_issues: Int64\n",
      "r_open_issues: Float64\n",
      "issue_close_time: Float64\n",
      "comments: List(String)\n",
      "events: List(String)\n",
      "comment_users: List(Struct({'name': String, 'n_commits': Int64, 'n_issues': Int64, 'n_pulls': Int64, 'resolver_commits': List(Int64), 'n_repos': Int64, 'n_commits_all': Int64, 'n_issues_all': Int64, 'n_pulls_all': Int64, 'n_reviews_all': Int64, 'max_stars_commit': Int64, 'max_stars_issue': Int64, 'max_stars_pull': Int64, 'max_stars_review': Int64}))\n",
      "event_users: List(Struct({'name': String, 'n_commits': Int64, 'n_issues': Int64, 'n_pulls': Int64, 'resolver_commits': List(Int64), 'n_repos': Int64, 'n_commits_all': Int64, 'n_issues_all': Int64, 'n_pulls_all': Int64, 'n_reviews_all': Int64, 'max_stars_commit': Int64, 'max_stars_issue': Int64, 'max_stars_pull': Int64, 'max_stars_review': Int64}))\n"
     ]
    }
   ],
   "source": [
    "# print the columns and the data types\n",
    "print(\"number of columns in df:\", len(polars_df.columns))\n",
    "\n",
    "for col, dtype in zip(polars_df.columns, polars_df.dtypes):\n",
    "    print(f\"{col}: {dtype}\")\n"
   ]
  },
  {
   "cell_type": "code",
   "execution_count": null,
   "metadata": {},
   "outputs": [],
   "source": []
  }
 ],
 "metadata": {
  "kernelspec": {
   "display_name": "honkerdam_env",
   "language": "python",
   "name": "python3"
  },
  "language_info": {
   "codemirror_mode": {
    "name": "ipython",
    "version": 3
   },
   "file_extension": ".py",
   "mimetype": "text/x-python",
   "name": "python",
   "nbconvert_exporter": "python",
   "pygments_lexer": "ipython3",
   "version": "3.12.7"
  }
 },
 "nbformat": 4,
 "nbformat_minor": 2
}
