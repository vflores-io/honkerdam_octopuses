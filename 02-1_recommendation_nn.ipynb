{
 "cells": [
  {
   "cell_type": "markdown",
   "metadata": {},
   "source": [
    "# Simple Recommendation Model using Neural Network\n",
    "\n",
    "This is an attempt to use a Neural Network for a **simple** recommendation system. We will recycle some of the stuff from the first iteration. Let's go!"
   ]
  },
  {
   "cell_type": "code",
   "execution_count": null,
   "metadata": {},
   "outputs": [],
   "source": [
    "import pandas as pd\n",
    "import numpy as np\n",
    "from sklearn.feature_extraction.text import TfidfVectorizer\n",
    "from sklearn.model_selection import train_test_split\n",
    "from sklearn.metrics.pairwise import cosine_similarity\n",
    "\n",
    "import torch\n",
    "import torch.nn as nn\n",
    "import torch.optim as optim\n",
    "from torch.utils.data import Dataset, DataLoader\n",
    "\n",
    "from matplotlib import pyplot as plt"
   ]
  },
  {
   "cell_type": "markdown",
   "metadata": {},
   "source": [
    "#### Load the data\n",
    "We will load the previously (kinda) cleaned dataset, saved in a `parquet` file. This file containes a column `issue_title_clean` with the title of the issue isolated from the rest of the issue comments.\n",
    "\n",
    "Note that this file is only a subset of the whole dataset, with 10,000 samples only."
   ]
  },
  {
   "cell_type": "code",
   "execution_count": null,
   "metadata": {},
   "outputs": [],
   "source": [
    "# load a subset of the dataset\n",
    "pr_df = pd.read_parquet(\"data/intermediate_data/pr_df_clean_issues.parquet\")\n",
    "\n",
    "# sanity check\n",
    "assert 'issue_title_clean' in pr_df.columns, \"Missing 'issue_title_clean' in the dataset\"\n",
    "pr_df = pr_df[pr_df['issue_title_clean'].notnull()]\n",
    "\n",
    "print(f\"Dataset shape: {pr_df.shape}\")\n",
    "print(f'The column names: {pr_df.columns}')\n",
    "pr_df.head(3)\n"
   ]
  },
  {
   "cell_type": "markdown",
   "metadata": {},
   "source": [
    "#### Generate the TF-IDF Matrix\n",
    "\n",
    "Here we go through the same step as the previous simple recommender system."
   ]
  },
  {
   "cell_type": "code",
   "execution_count": null,
   "metadata": {},
   "outputs": [],
   "source": [
    "# initialize the TF-IDF vectorizer\n",
    "vectorizer = TfidfVectorizer(stop_words = 'english', max_features = 5000)\n",
    "\n",
    "# generate the TF-IDF matrix\n",
    "tfidf_matrix = vectorizer.fit_transform(pr_df['issue_title_clean'])\n",
    "\n",
    "# let's take a look\n",
    "print(f'tf-idf matrix shape: {tfidf_matrix.shape}')\n",
    "print(f'Features: {vectorizer.get_feature_names_out()}')\n"
   ]
  },
  {
   "cell_type": "markdown",
   "metadata": {},
   "source": [
    "#### Create pairwise training data"
   ]
  },
  {
   "cell_type": "code",
   "execution_count": null,
   "metadata": {},
   "outputs": [],
   "source": [
    "# compute cosine similarity matrix\n",
    "cos_sim_matrix = cosine_similarity(tfidf_matrix)\n",
    "\n",
    "# generate pairs of indices and similarity scores\n",
    "pairs = []\n",
    "for i in range(len(cos_sim_matrix)):\n",
    "    for j in range(i+1, len(cos_sim_matrix)):\n",
    "        pairs.append((i, j, cos_sim_matrix[i, j]))\n",
    "\n",
    "# convert to dataframe\n",
    "pairs_df = pd.DataFrame(pairs, columns=['idx1', 'idx2', 'similarity'])\n",
    "\n",
    "# split into train and test sets\n",
    "train_pairs, test_pairs = train_test_split(pairs_df, test_size=0.2, random_state=42)\n",
    "\n",
    "\n",
    "print(f'train pairs: {len(train_pairs)}, test pairs: {len(test_pairs)}')"
   ]
  },
  {
   "cell_type": "markdown",
   "metadata": {},
   "source": [
    "NOTE: Both my computer and google colab are crashing. This is still a huge data to handle. So let's limit the pairs."
   ]
  },
  {
   "cell_type": "code",
   "execution_count": null,
   "metadata": {},
   "outputs": [],
   "source": [
    "train_pairs = train_pairs.sample(10000, random_state=42)\n",
    "test_pairs = test_pairs.sample(2000, random_state=42)\n",
    "\n",
    "print(f'train pairs: {len(train_pairs)}, test pairs: {len(test_pairs)}')"
   ]
  },
  {
   "cell_type": "markdown",
   "metadata": {},
   "source": [
    "#### Create a PyTorch dataset\n",
    "\n",
    "We will dynamically fetch the sparse vectors for each pair."
   ]
  },
  {
   "cell_type": "code",
   "execution_count": null,
   "metadata": {},
   "outputs": [],
   "source": [
    "class PairwiseSimilarityDataset(Dataset):\n",
    "    def __init__(self, tfidf_matrix, pairs_df):\n",
    "        self.tfidf_matrix = tfidf_matrix\n",
    "        self.pairs_df = pairs_df\n",
    "\n",
    "    def __len__(self):\n",
    "        return len(self.pairs_df)\n",
    "    \n",
    "    def __getitem__(self, idx):\n",
    "        # get the pair of indices\n",
    "        row = self.pairs_df.iloc[idx]\n",
    "        idx1, idx2 = int(row['idx1']), int(row['idx2'])\n",
    "        similarity = float(row['similarity'])\n",
    "\n",
    "        # fetch the sparse vectors for the two issues\n",
    "        vector1 = self.tfidf_matrix[idx1].toarray().squeeze()\n",
    "        vector2 = self.tfidf_matrix[idx2].toarray().squeeze()\n",
    "\n",
    "        # concatenate the vectors\n",
    "        combined_vector = np.hstack([vector1, vector2])\n",
    "\n",
    "        return torch.tensor(combined_vector, dtype=torch.float32), torch.tensor(similarity, dtype=torch.float32)\n",
    "    "
   ]
  },
  {
   "cell_type": "markdown",
   "metadata": {},
   "source": [
    "Now we create the datasets with the custom class."
   ]
  },
  {
   "cell_type": "code",
   "execution_count": null,
   "metadata": {},
   "outputs": [],
   "source": [
    "# create datasets\n",
    "train_dataset = PairwiseSimilarityDataset(tfidf_matrix, train_pairs)\n",
    "test_dataset = PairwiseSimilarityDataset(tfidf_matrix, test_pairs)\n",
    "\n",
    "# create dataloaders\n",
    "train_dataloader = DataLoader(train_dataset, batch_size=32, shuffle=True)\n",
    "test_dataloader = DataLoader(test_dataset, batch_size=32, shuffle=False)\n",
    "\n",
    "print(f'train dataset size: {len(train_dataset)}, test dataset size: {len(test_dataset)}')"
   ]
  },
  {
   "cell_type": "markdown",
   "metadata": {},
   "source": [
    "#### Define the Neural Network\n",
    "Now for the fun part"
   ]
  },
  {
   "cell_type": "code",
   "execution_count": null,
   "metadata": {},
   "outputs": [],
   "source": [
    "class SimilarityModel(nn.Module):\n",
    "    def __init__(self, input_dim):\n",
    "        super(SimilarityModel, self).__init__()\n",
    "        self.fc1 = nn.Linear(input_dim, 128)\n",
    "        self.fc2 = nn.Linear(128, 64)\n",
    "        self.fc3 = nn.Linear(64, 1)\n",
    "        self.sigmoid = nn.Sigmoid()\n",
    "\n",
    "    def forward(self, x):\n",
    "        x = torch.relu(self.fc1(x))\n",
    "        x = torch.relu(self.fc2(x))\n",
    "        x = self.sigmoid(self.fc3(x))\n",
    "        return x\n",
    "\n",
    "# initialize the model\n",
    "input_dim = tfidf_matrix.shape[1] * 2  # each pair has concatenated vectors\n",
    "model = SimilarityModel(input_dim)\n",
    "\n",
    "# check for available devices\n",
    "if torch.cuda.is_available():\n",
    "    device = torch.device('cuda')\n",
    "    print(f'Using CUDA (NVIDIA GPU): {device}')\n",
    "elif torch.backends.mps.is_available():\n",
    "    device = torch.device('mps')\n",
    "    print(f'Using MPS (Apple GPU): {device}')\n",
    "else:\n",
    "    device = torch.device('cpu')\n",
    "    print(f'Using CPU: {device}')\n",
    "\n",
    "# move the model to the device\n",
    "model.to(device)\n",
    "\n",
    "# define loss and optimizer\n",
    "criterion = nn.BCELoss()\n",
    "optimizer = optim.Adam(model.parameters(), lr=1e-3)\n",
    "\n",
    "print(model)"
   ]
  },
  {
   "cell_type": "markdown",
   "metadata": {},
   "source": [
    "#### Train the model\n",
    "Now for the even more fun part. Let's use GPU if available."
   ]
  },
  {
   "cell_type": "code",
   "execution_count": null,
   "metadata": {},
   "outputs": [],
   "source": [
    "# initialize list to store losses\n",
    "train_losses = []\n",
    "test_losses = []\n",
    "\n",
    "# training loop\n",
    "num_epochs = 100\n",
    "\n",
    "for epoch in range(num_epochs):\n",
    "    model.train()     # set the model to training mode\n",
    "    train_loss = 0    # reset the training loss\n",
    "\n",
    "    for X_batch, y_batch in train_dataloader:\n",
    "        # move data to the device\n",
    "        X_batch, y_batch = X_batch.to(device), y_batch.to(device)\n",
    "\n",
    "        optimizer.zero_grad()\n",
    "        y_pred = model(X_batch).squeeze()\n",
    "        loss = criterion(y_pred, y_batch)\n",
    "        loss.backward()\n",
    "        optimizer.step()\n",
    "        train_loss += loss.item()\n",
    "\n",
    "    train_loss /= len(train_dataloader)\n",
    "    train_losses.append(train_loss)\n",
    "\n",
    "    # evaluation loop\n",
    "    model.eval()              # set the model to evaluation mode\n",
    "    test_loss = 0             # reset the test loss\n",
    "    with torch.no_grad():\n",
    "        for X_batch, y_batch in test_dataloader:\n",
    "            # move data to the device\n",
    "            X_batch, y_batch = X_batch.to(device), y_batch.to(device)\n",
    "\n",
    "            y_pred = model(X_batch).squeeze()\n",
    "            loss = criterion(y_pred, y_batch)\n",
    "            test_loss += loss.item()\n",
    "\n",
    "    test_loss /= len(test_dataloader)\n",
    "    test_losses.append(test_loss)\n",
    "\n",
    "    print(f\"epoch {epoch + 1}/{num_epochs}, train Loss: {train_loss:.4f}, test Loss: {test_loss:.4f}\")\n",
    "        "
   ]
  },
  {
   "cell_type": "markdown",
   "metadata": {},
   "source": [
    "#### Evaluating the model\n",
    "Sorta fun 😬. Let's plot the loss over epochs."
   ]
  },
  {
   "cell_type": "code",
   "execution_count": null,
   "metadata": {},
   "outputs": [],
   "source": [
    "\n",
    "plt.figure(figsize=(8, 6))\n",
    "plt.plot(range(1, num_epochs + 1), train_losses, label=\"Train Loss\", marker='o')\n",
    "plt.plot(range(1, num_epochs + 1), test_losses, label=\"Test Loss\", marker='o')\n",
    "plt.xlabel(\"Epoch\")\n",
    "plt.ylabel(\"Loss\")\n",
    "plt.title(\"Train and Test Loss Over Epochs\")\n",
    "plt.legend()\n",
    "plt.grid(True)\n",
    "plt.show()\n"
   ]
  },
  {
   "cell_type": "markdown",
   "metadata": {},
   "source": [
    "#### Build the recommendation function\n",
    "Now we're getting down to brass tacks..."
   ]
  },
  {
   "cell_type": "code",
   "execution_count": null,
   "metadata": {},
   "outputs": [],
   "source": [
    "def recommend_with_nn(query_idx, tfidf_matrix, model, pr_df, top_n=5, device=torch.device('cpu')):\n",
    "    \"\"\"\n",
    "    recommend the most similar issues using the trained neural network model.\n",
    "    \n",
    "    parameters:\n",
    "    - query_idx: index of the query issue\n",
    "    - tfidf_matrix: tf-idf matrix\n",
    "    - model: trained neural network model\n",
    "    - pr_df: dataframe of the dataset\n",
    "    - top_n: number of top recommendations to return\n",
    "\n",
    "    returns:\n",
    "    - list of tuples (index, predicted similarity, title)\n",
    "    \"\"\"\n",
    "    # move model to the selected device\n",
    "    model = model.to(device)\n",
    "\n",
    "    query_vector = torch.tensor(\n",
    "                                tfidf_matrix[query_idx].toarray(), \n",
    "                                dtype=torch.float32\n",
    "                                ).flatten().to(device)\n",
    "                                \n",
    "\n",
    "    similarities = []\n",
    "    model.eval()                # set the model to evaluation mode\n",
    "    with torch.no_grad():\n",
    "        for idx in range(tfidf_matrix.shape[0]):\n",
    "            if idx != query_idx:\n",
    "                candidate_vector = torch.tensor(tfidf_matrix[idx].toarray(), dtype=torch.float32).flatten().to(device)\n",
    "                pair_vector = torch.cat([query_vector, candidate_vector], dim = 0).to(device)\n",
    "                pred_sim = model(pair_vector.unsqueeze(0)).item()\n",
    "                similarities.append((idx, pred_sim))\n",
    "\n",
    "    # sort by similarity\n",
    "    similarities = sorted(similarities, key=lambda x: x[1], reverse=True)\n",
    "    return [\n",
    "        (idx, score, pr_df.iloc[idx]['issue_title_clean'])\n",
    "        for idx, score in similarities[:top_n]\n",
    "    ]\n",
    "\n",
    "# example: recommend similar issues based on the first issue\n",
    "query_idx = 100  # index of the query issue\n",
    "recommendations = recommend_with_nn(\n",
    "    query_idx,\n",
    "    tfidf_matrix,\n",
    "    model,\n",
    "    pr_df,\n",
    "    top_n = 5,\n",
    "    device = device\n",
    ")\n",
    "\n",
    "for idx, score, title in recommendations:\n",
    "    print(f'index: {idx}, predicted similarity: {score:.2f}, title: {title}')"
   ]
  },
  {
   "cell_type": "markdown",
   "metadata": {},
   "source": []
  }
 ],
 "metadata": {
  "kernelspec": {
   "display_name": "honkerdam_env",
   "language": "python",
   "name": "python3"
  },
  "language_info": {
   "codemirror_mode": {
    "name": "ipython",
    "version": 3
   },
   "file_extension": ".py",
   "mimetype": "text/x-python",
   "name": "python",
   "nbconvert_exporter": "python",
   "pygments_lexer": "ipython3",
   "version": "3.12.7"
  }
 },
 "nbformat": 4,
 "nbformat_minor": 2
}
