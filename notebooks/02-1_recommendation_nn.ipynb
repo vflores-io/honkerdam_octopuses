{
 "cells": [
  {
   "cell_type": "markdown",
   "metadata": {},
   "source": [
    "# Simple Recommendation Model using Neural Network\n",
    "\n",
    "This is an attempt to use a Neural Network for a **simple** recommendation system. We will recycle some of the stuff from the first iteration. Let's go!"
   ]
  },
  {
   "cell_type": "code",
   "execution_count": 1,
   "metadata": {},
   "outputs": [],
   "source": [
    "import pandas as pd\n",
    "import numpy as np\n",
    "from sklearn.feature_extraction.text import TfidfVectorizer\n",
    "from sklearn.model_selection import train_test_split\n",
    "from sklearn.metrics.pairwise import cosine_similarity\n",
    "import scipy.sparse as sp\n",
    "\n",
    "import torch\n",
    "import torch.nn as nn\n",
    "import torch.optim as optim\n",
    "from torch.utils.data import Dataset, DataLoader\n",
    "\n",
    "from matplotlib import pyplot as plt"
   ]
  },
  {
   "cell_type": "markdown",
   "metadata": {},
   "source": [
    "#### Load the data\n",
    "We will load the previously (kinda) cleaned dataset, saved in a `parquet` file. This file containes a column `issue_title_clean` with the title of the issue isolated from the rest of the issue comments.\n",
    "\n",
    "Note that this file is only a subset of the whole dataset, with 10,000 samples only."
   ]
  },
  {
   "cell_type": "code",
   "execution_count": 2,
   "metadata": {},
   "outputs": [
    {
     "name": "stdout",
     "output_type": "stream",
     "text": [
      "Dataset shape: (10000, 14)\n",
      "The column names: Index(['repo', 'parent_repo', 'child_repo', 'issue_id', 'issue_number',\n",
      "       'issue', 'text_size', 'usernames', 'users', 'mock_number',\n",
      "       'issue_title', 'issue_comments', 'issue_title_clean',\n",
      "       'issue_comments_clean'],\n",
      "      dtype='object')\n"
     ]
    },
    {
     "data": {
      "text/html": [
       "<div>\n",
       "<style scoped>\n",
       "    .dataframe tbody tr th:only-of-type {\n",
       "        vertical-align: middle;\n",
       "    }\n",
       "\n",
       "    .dataframe tbody tr th {\n",
       "        vertical-align: top;\n",
       "    }\n",
       "\n",
       "    .dataframe thead th {\n",
       "        text-align: right;\n",
       "    }\n",
       "</style>\n",
       "<table border=\"1\" class=\"dataframe\">\n",
       "  <thead>\n",
       "    <tr style=\"text-align: right;\">\n",
       "      <th></th>\n",
       "      <th>repo</th>\n",
       "      <th>parent_repo</th>\n",
       "      <th>child_repo</th>\n",
       "      <th>issue_id</th>\n",
       "      <th>issue_number</th>\n",
       "      <th>issue</th>\n",
       "      <th>text_size</th>\n",
       "      <th>usernames</th>\n",
       "      <th>users</th>\n",
       "      <th>mock_number</th>\n",
       "      <th>issue_title</th>\n",
       "      <th>issue_comments</th>\n",
       "      <th>issue_title_clean</th>\n",
       "      <th>issue_comments_clean</th>\n",
       "    </tr>\n",
       "  </thead>\n",
       "  <tbody>\n",
       "    <tr>\n",
       "      <th>0</th>\n",
       "      <td>kaisermann/svelte-i18n</td>\n",
       "      <td>kaisermann</td>\n",
       "      <td>svelte-i18n</td>\n",
       "      <td>550510104</td>\n",
       "      <td>40</td>\n",
       "      <td>Title: WIP - v3\\nusername_0: \\n</td>\n",
       "      <td>2398</td>\n",
       "      <td>[kaisermann,  elbourki]</td>\n",
       "      <td>elbourki</td>\n",
       "      <td>52812</td>\n",
       "      <td>WIP - v3</td>\n",
       "      <td></td>\n",
       "      <td>WIP v3</td>\n",
       "      <td></td>\n",
       "    </tr>\n",
       "    <tr>\n",
       "      <th>1</th>\n",
       "      <td>material-components/material-components-ios</td>\n",
       "      <td>material-components</td>\n",
       "      <td>material-components-ios</td>\n",
       "      <td>551064006</td>\n",
       "      <td>9444</td>\n",
       "      <td>Title: [AppBar] Fix swipe to go back gesture f...</td>\n",
       "      <td>355</td>\n",
       "      <td>[jverkoey,  bryanoltman]</td>\n",
       "      <td>bryanoltman</td>\n",
       "      <td>38978</td>\n",
       "      <td>[AppBar] Fix swipe to go back gesture for MDCA...</td>\n",
       "      <td>[AppBar] Fix swipe to go back gesture for MDCA...</td>\n",
       "      <td>AppBar Fix swipe to go back gesture for MDCApp...</td>\n",
       "      <td>AppBar Fix swipe to go back gesture for MDCApp...</td>\n",
       "    </tr>\n",
       "    <tr>\n",
       "      <th>2</th>\n",
       "      <td>dlang/phobos</td>\n",
       "      <td>dlang</td>\n",
       "      <td>phobos</td>\n",
       "      <td>551980198</td>\n",
       "      <td>7355</td>\n",
       "      <td>Title: Add initial support for iOS, tvOS and w...</td>\n",
       "      <td>4306</td>\n",
       "      <td>[wilzbach,  etcimon,  Geod24,  CyberShadow,  t...</td>\n",
       "      <td>jacob-carlborg</td>\n",
       "      <td>66742</td>\n",
       "      <td>Add initial support for iOS, tvOS and watchOS</td>\n",
       "      <td>I've only tested this on a 64 bit iPhone runni...</td>\n",
       "      <td>Add initial support for iOS, tvOS and watchOS</td>\n",
       "      <td>I've only tested this on a 64 bit iPhone runni...</td>\n",
       "    </tr>\n",
       "  </tbody>\n",
       "</table>\n",
       "</div>"
      ],
      "text/plain": [
       "                                          repo          parent_repo  \\\n",
       "0                       kaisermann/svelte-i18n           kaisermann   \n",
       "1  material-components/material-components-ios  material-components   \n",
       "2                                 dlang/phobos                dlang   \n",
       "\n",
       "                child_repo   issue_id  issue_number  \\\n",
       "0              svelte-i18n  550510104            40   \n",
       "1  material-components-ios  551064006          9444   \n",
       "2                   phobos  551980198          7355   \n",
       "\n",
       "                                               issue  text_size  \\\n",
       "0                    Title: WIP - v3\\nusername_0: \\n       2398   \n",
       "1  Title: [AppBar] Fix swipe to go back gesture f...        355   \n",
       "2  Title: Add initial support for iOS, tvOS and w...       4306   \n",
       "\n",
       "                                           usernames            users  \\\n",
       "0                            [kaisermann,  elbourki]         elbourki   \n",
       "1                           [jverkoey,  bryanoltman]      bryanoltman   \n",
       "2  [wilzbach,  etcimon,  Geod24,  CyberShadow,  t...   jacob-carlborg   \n",
       "\n",
       "   mock_number                                        issue_title  \\\n",
       "0        52812                                           WIP - v3   \n",
       "1        38978  [AppBar] Fix swipe to go back gesture for MDCA...   \n",
       "2        66742      Add initial support for iOS, tvOS and watchOS   \n",
       "\n",
       "                                      issue_comments  \\\n",
       "0                                                      \n",
       "1  [AppBar] Fix swipe to go back gesture for MDCA...   \n",
       "2  I've only tested this on a 64 bit iPhone runni...   \n",
       "\n",
       "                                   issue_title_clean  \\\n",
       "0                                             WIP v3   \n",
       "1  AppBar Fix swipe to go back gesture for MDCApp...   \n",
       "2      Add initial support for iOS, tvOS and watchOS   \n",
       "\n",
       "                                issue_comments_clean  \n",
       "0                                                     \n",
       "1  AppBar Fix swipe to go back gesture for MDCApp...  \n",
       "2  I've only tested this on a 64 bit iPhone runni...  "
      ]
     },
     "execution_count": 2,
     "metadata": {},
     "output_type": "execute_result"
    }
   ],
   "source": [
    "# load a subset of the dataset\n",
    "pr_df = pd.read_parquet(\"../data/intermediate_data/pr_df_clean_issues.parquet\")\n",
    "\n",
    "# sanity check\n",
    "assert 'issue_title_clean' in pr_df.columns, \"Missing 'issue_title_clean' in the dataset\"\n",
    "pr_df = pr_df[pr_df['issue_title_clean'].notnull()]\n",
    "\n",
    "print(f\"Dataset shape: {pr_df.shape}\")\n",
    "print(f'The column names: {pr_df.columns}')\n",
    "pr_df.head(3)\n"
   ]
  },
  {
   "cell_type": "markdown",
   "metadata": {},
   "source": [
    "#### Generate the TF-IDF Matrix\n",
    "\n",
    "Here we go through the same step as the previous simple recommender system."
   ]
  },
  {
   "cell_type": "code",
   "execution_count": 3,
   "metadata": {},
   "outputs": [
    {
     "name": "stdout",
     "output_type": "stream",
     "text": [
      "TF-IDF matrix saved successfully!\n",
      "tf-idf matrix shape: (10000, 5000)\n",
      "Features: ['00' '01' '02' ... 'zsh' 'ztests' 'ztsurl']\n"
     ]
    }
   ],
   "source": [
    "# initialize the TF-IDF vectorizer\n",
    "vectorizer = TfidfVectorizer(stop_words = 'english', max_features = 5000)\n",
    "\n",
    "# generate the TF-IDF matrix\n",
    "tfidf_matrix = vectorizer.fit_transform(pr_df['issue_title_clean'])\n",
    "\n",
    "# save the tfidf matrix to use later on frontend\n",
    "sp.save_npz(\"../backend/models/tfidf_matrix.npz\", tfidf_matrix)\n",
    "\n",
    "print(\"TF-IDF matrix saved successfully!\")\n",
    "\n",
    "# let's take a look\n",
    "print(f'tf-idf matrix shape: {tfidf_matrix.shape}')\n",
    "print(f'Features: {vectorizer.get_feature_names_out()}')\n"
   ]
  },
  {
   "cell_type": "markdown",
   "metadata": {},
   "source": [
    "#### Create pairwise training data"
   ]
  },
  {
   "cell_type": "code",
   "execution_count": 4,
   "metadata": {},
   "outputs": [
    {
     "name": "stdout",
     "output_type": "stream",
     "text": [
      "train pairs: 39996000, test pairs: 9999000\n"
     ]
    }
   ],
   "source": [
    "# compute cosine similarity matrix\n",
    "cos_sim_matrix = cosine_similarity(tfidf_matrix)\n",
    "\n",
    "# generate pairs of indices and similarity scores\n",
    "pairs = []\n",
    "for i in range(len(cos_sim_matrix)):\n",
    "    for j in range(i+1, len(cos_sim_matrix)):\n",
    "        pairs.append((i, j, cos_sim_matrix[i, j]))\n",
    "\n",
    "# convert to dataframe\n",
    "pairs_df = pd.DataFrame(pairs, columns=['idx1', 'idx2', 'similarity'])\n",
    "\n",
    "# split into train and test sets\n",
    "train_pairs, test_pairs = train_test_split(pairs_df, test_size=0.2, random_state=42)\n",
    "\n",
    "\n",
    "print(f'train pairs: {len(train_pairs)}, test pairs: {len(test_pairs)}')"
   ]
  },
  {
   "cell_type": "markdown",
   "metadata": {},
   "source": [
    "NOTE: Both my computer and google colab are crashing. This is still a huge data to handle. So let's limit the pairs."
   ]
  },
  {
   "cell_type": "code",
   "execution_count": 5,
   "metadata": {},
   "outputs": [
    {
     "name": "stdout",
     "output_type": "stream",
     "text": [
      "train pairs: 10000, test pairs: 2000\n"
     ]
    }
   ],
   "source": [
    "train_pairs = train_pairs.sample(10000, random_state=42)\n",
    "test_pairs = test_pairs.sample(2000, random_state=42)\n",
    "\n",
    "print(f'train pairs: {len(train_pairs)}, test pairs: {len(test_pairs)}')"
   ]
  },
  {
   "cell_type": "markdown",
   "metadata": {},
   "source": [
    "#### Create a PyTorch dataset\n",
    "\n",
    "We will dynamically fetch the sparse vectors for each pair."
   ]
  },
  {
   "cell_type": "code",
   "execution_count": 6,
   "metadata": {},
   "outputs": [],
   "source": [
    "class PairwiseSimilarityDataset(Dataset):\n",
    "    def __init__(self, tfidf_matrix, pairs_df):\n",
    "        self.tfidf_matrix = tfidf_matrix\n",
    "        self.pairs_df = pairs_df\n",
    "\n",
    "    def __len__(self):\n",
    "        return len(self.pairs_df)\n",
    "    \n",
    "    def __getitem__(self, idx):\n",
    "        # get the pair of indices\n",
    "        row = self.pairs_df.iloc[idx]\n",
    "        idx1, idx2 = int(row['idx1']), int(row['idx2'])\n",
    "        similarity = float(row['similarity'])\n",
    "\n",
    "        # fetch the sparse vectors for the two issues\n",
    "        vector1 = self.tfidf_matrix[idx1].toarray().squeeze()\n",
    "        vector2 = self.tfidf_matrix[idx2].toarray().squeeze()\n",
    "\n",
    "        # concatenate the vectors\n",
    "        combined_vector = np.hstack([vector1, vector2])\n",
    "\n",
    "        return torch.tensor(combined_vector, dtype=torch.float32), torch.tensor(similarity, dtype=torch.float32)\n",
    "    "
   ]
  },
  {
   "cell_type": "markdown",
   "metadata": {},
   "source": [
    "Now we create the datasets with the custom class."
   ]
  },
  {
   "cell_type": "code",
   "execution_count": 7,
   "metadata": {},
   "outputs": [
    {
     "name": "stdout",
     "output_type": "stream",
     "text": [
      "train dataset size: 10000, test dataset size: 2000\n"
     ]
    }
   ],
   "source": [
    "# create datasets\n",
    "train_dataset = PairwiseSimilarityDataset(tfidf_matrix, train_pairs)\n",
    "test_dataset = PairwiseSimilarityDataset(tfidf_matrix, test_pairs)\n",
    "\n",
    "# create dataloaders\n",
    "train_dataloader = DataLoader(train_dataset, batch_size=32, shuffle=True)\n",
    "test_dataloader = DataLoader(test_dataset, batch_size=32, shuffle=False)\n",
    "\n",
    "print(f'train dataset size: {len(train_dataset)}, test dataset size: {len(test_dataset)}')"
   ]
  },
  {
   "cell_type": "markdown",
   "metadata": {},
   "source": [
    "#### Define the Neural Network\n",
    "Now for the fun part"
   ]
  },
  {
   "cell_type": "code",
   "execution_count": 8,
   "metadata": {},
   "outputs": [
    {
     "name": "stdout",
     "output_type": "stream",
     "text": [
      "Using MPS (Apple GPU): mps\n",
      "SimilarityModel(\n",
      "  (fc1): Linear(in_features=10000, out_features=128, bias=True)\n",
      "  (fc2): Linear(in_features=128, out_features=64, bias=True)\n",
      "  (fc3): Linear(in_features=64, out_features=16, bias=True)\n",
      "  (fc4): Linear(in_features=16, out_features=1, bias=True)\n",
      "  (sigmoid): Sigmoid()\n",
      ")\n"
     ]
    }
   ],
   "source": [
    "class SimilarityModel(nn.Module):\n",
    "    def __init__(self, input_dim):\n",
    "        super(SimilarityModel, self).__init__()\n",
    "        self.fc1 = nn.Linear(input_dim, 128)\n",
    "        self.fc2 = nn.Linear(128, 64)\n",
    "        self.fc3 = nn.Linear(64, 16)\n",
    "        self.fc4 = nn.Linear(16, 1)\n",
    "        self.sigmoid = nn.Sigmoid()\n",
    "\n",
    "    def forward(self, x):\n",
    "        x = torch.relu(self.fc1(x))\n",
    "        x = torch.relu(self.fc2(x))\n",
    "        x = torch.relu(self.fc3(x))\n",
    "        x = self.sigmoid(self.fc4(x))\n",
    "        return x\n",
    "\n",
    "# initialize the model\n",
    "input_dim = tfidf_matrix.shape[1] * 2  # each pair has concatenated vectors\n",
    "model = SimilarityModel(input_dim)\n",
    "\n",
    "# check for available devices\n",
    "if torch.cuda.is_available():\n",
    "    device = torch.device('cuda')\n",
    "    print(f'Using CUDA (NVIDIA GPU): {device}')\n",
    "elif torch.backends.mps.is_available():\n",
    "    device = torch.device('mps')\n",
    "    print(f'Using MPS (Apple GPU): {device}')\n",
    "else:\n",
    "    device = torch.device('cpu')\n",
    "    print(f'Using CPU: {device}')\n",
    "\n",
    "# move the model to the device\n",
    "model.to(device)\n",
    "\n",
    "# define loss and optimizer\n",
    "criterion = nn.BCELoss()\n",
    "optimizer = optim.Adam(model.parameters(), lr=1e-3)\n",
    "\n",
    "print(model)"
   ]
  },
  {
   "cell_type": "markdown",
   "metadata": {},
   "source": [
    "#### Train the model\n",
    "Now for the even more fun part. Let's use GPU if available."
   ]
  },
  {
   "cell_type": "code",
   "execution_count": 9,
   "metadata": {},
   "outputs": [
    {
     "name": "stdout",
     "output_type": "stream",
     "text": [
      "epoch 1/100, train Loss: 0.1474, test Loss: 0.0401\n",
      "epoch 2/100, train Loss: 0.0345, test Loss: 0.0391\n",
      "epoch 3/100, train Loss: 0.0281, test Loss: 0.0415\n",
      "epoch 4/100, train Loss: 0.0245, test Loss: 0.0458\n",
      "epoch 5/100, train Loss: 0.0221, test Loss: 0.0507\n",
      "epoch 6/100, train Loss: 0.0213, test Loss: 0.0539\n",
      "epoch 7/100, train Loss: 0.0209, test Loss: 0.0565\n",
      "epoch 8/100, train Loss: 0.0208, test Loss: 0.0546\n",
      "epoch 9/100, train Loss: 0.0201, test Loss: 0.0577\n",
      "epoch 10/100, train Loss: 0.0196, test Loss: 0.0601\n",
      "epoch 11/100, train Loss: 0.0196, test Loss: 0.0634\n",
      "epoch 12/100, train Loss: 0.0193, test Loss: 0.0660\n",
      "epoch 13/100, train Loss: 0.0191, test Loss: 0.0696\n",
      "epoch 14/100, train Loss: 0.0189, test Loss: 0.0730\n",
      "epoch 15/100, train Loss: 0.0187, test Loss: 0.0761\n",
      "epoch 16/100, train Loss: 0.0186, test Loss: 0.0814\n",
      "epoch 17/100, train Loss: 0.0185, test Loss: 0.0851\n",
      "epoch 18/100, train Loss: 0.0184, test Loss: 0.0917\n",
      "epoch 19/100, train Loss: 0.0184, test Loss: 0.0935\n",
      "epoch 20/100, train Loss: 0.0184, test Loss: 0.0918\n",
      "epoch 21/100, train Loss: 0.0183, test Loss: 0.0932\n",
      "epoch 22/100, train Loss: 0.0183, test Loss: 0.1099\n",
      "epoch 23/100, train Loss: 0.0184, test Loss: 0.1029\n",
      "epoch 24/100, train Loss: 0.0183, test Loss: 0.1040\n",
      "epoch 25/100, train Loss: 0.0184, test Loss: 0.1162\n",
      "epoch 26/100, train Loss: 0.0184, test Loss: 0.1100\n",
      "epoch 27/100, train Loss: 0.0183, test Loss: 0.1161\n",
      "epoch 28/100, train Loss: 0.0183, test Loss: 0.1085\n",
      "epoch 29/100, train Loss: 0.0183, test Loss: 0.1036\n",
      "epoch 30/100, train Loss: 0.0183, test Loss: 0.1013\n",
      "epoch 31/100, train Loss: 0.0184, test Loss: 0.1040\n",
      "epoch 32/100, train Loss: 0.0183, test Loss: 0.0978\n",
      "epoch 33/100, train Loss: 0.0182, test Loss: 0.1078\n",
      "epoch 34/100, train Loss: 0.0182, test Loss: 0.1027\n",
      "epoch 35/100, train Loss: 0.0182, test Loss: 0.1168\n",
      "epoch 36/100, train Loss: 0.0181, test Loss: 0.1161\n",
      "epoch 37/100, train Loss: 0.0181, test Loss: 0.1176\n",
      "epoch 38/100, train Loss: 0.0181, test Loss: 0.1240\n",
      "epoch 39/100, train Loss: 0.0181, test Loss: 0.1243\n",
      "epoch 40/100, train Loss: 0.0182, test Loss: 0.1207\n",
      "epoch 41/100, train Loss: 0.0183, test Loss: 0.1001\n",
      "epoch 42/100, train Loss: 0.0182, test Loss: 0.1074\n",
      "epoch 43/100, train Loss: 0.0183, test Loss: 0.1110\n",
      "epoch 44/100, train Loss: 0.0183, test Loss: 0.1072\n",
      "epoch 45/100, train Loss: 0.0183, test Loss: 0.1187\n",
      "epoch 46/100, train Loss: 0.0182, test Loss: 0.1077\n",
      "epoch 47/100, train Loss: 0.0182, test Loss: 0.1144\n",
      "epoch 48/100, train Loss: 0.0181, test Loss: 0.1100\n",
      "epoch 49/100, train Loss: 0.0182, test Loss: 0.1198\n",
      "epoch 50/100, train Loss: 0.0182, test Loss: 0.1058\n",
      "epoch 51/100, train Loss: 0.0182, test Loss: 0.1131\n",
      "epoch 52/100, train Loss: 0.0181, test Loss: 0.1194\n",
      "epoch 53/100, train Loss: 0.0181, test Loss: 0.1112\n",
      "epoch 54/100, train Loss: 0.0182, test Loss: 0.1205\n",
      "epoch 55/100, train Loss: 0.0182, test Loss: 0.1164\n",
      "epoch 56/100, train Loss: 0.0183, test Loss: 0.1108\n",
      "epoch 57/100, train Loss: 0.0182, test Loss: 0.1135\n",
      "epoch 58/100, train Loss: 0.0182, test Loss: 0.1164\n",
      "epoch 59/100, train Loss: 0.0184, test Loss: 0.0963\n",
      "epoch 60/100, train Loss: 0.0182, test Loss: 0.1057\n",
      "epoch 61/100, train Loss: 0.0182, test Loss: 0.1076\n",
      "epoch 62/100, train Loss: 0.0181, test Loss: 0.1124\n",
      "epoch 63/100, train Loss: 0.0181, test Loss: 0.1127\n",
      "epoch 64/100, train Loss: 0.0183, test Loss: 0.1085\n",
      "epoch 65/100, train Loss: 0.0181, test Loss: 0.0932\n",
      "epoch 66/100, train Loss: 0.0184, test Loss: 0.1062\n",
      "epoch 67/100, train Loss: 0.0182, test Loss: 0.1005\n",
      "epoch 68/100, train Loss: 0.0182, test Loss: 0.1028\n",
      "epoch 69/100, train Loss: 0.0181, test Loss: 0.1044\n",
      "epoch 70/100, train Loss: 0.0181, test Loss: 0.1099\n",
      "epoch 71/100, train Loss: 0.0182, test Loss: 0.1133\n",
      "epoch 72/100, train Loss: 0.0181, test Loss: 0.1059\n",
      "epoch 73/100, train Loss: 0.0181, test Loss: 0.1091\n",
      "epoch 74/100, train Loss: 0.0183, test Loss: 0.1086\n",
      "epoch 75/100, train Loss: 0.0183, test Loss: 0.1008\n",
      "epoch 76/100, train Loss: 0.0182, test Loss: 0.0997\n",
      "epoch 77/100, train Loss: 0.0181, test Loss: 0.1086\n",
      "epoch 78/100, train Loss: 0.0182, test Loss: 0.1022\n",
      "epoch 79/100, train Loss: 0.0181, test Loss: 0.1089\n",
      "epoch 80/100, train Loss: 0.0184, test Loss: 0.0983\n",
      "epoch 81/100, train Loss: 0.0182, test Loss: 0.1071\n",
      "epoch 82/100, train Loss: 0.0182, test Loss: 0.1045\n",
      "epoch 83/100, train Loss: 0.0182, test Loss: 0.1089\n",
      "epoch 84/100, train Loss: 0.0182, test Loss: 0.1102\n",
      "epoch 85/100, train Loss: 0.0184, test Loss: 0.0928\n",
      "epoch 86/100, train Loss: 0.0182, test Loss: 0.0940\n",
      "epoch 87/100, train Loss: 0.0182, test Loss: 0.1008\n",
      "epoch 88/100, train Loss: 0.0182, test Loss: 0.1023\n",
      "epoch 89/100, train Loss: 0.0182, test Loss: 0.1031\n",
      "epoch 90/100, train Loss: 0.0181, test Loss: 0.0939\n",
      "epoch 91/100, train Loss: 0.0182, test Loss: 0.0815\n",
      "epoch 92/100, train Loss: 0.0181, test Loss: 0.1025\n",
      "epoch 93/100, train Loss: 0.0182, test Loss: 0.1068\n",
      "epoch 94/100, train Loss: 0.0182, test Loss: 0.1076\n",
      "epoch 95/100, train Loss: 0.0181, test Loss: 0.1101\n",
      "epoch 96/100, train Loss: 0.0181, test Loss: 0.1053\n",
      "epoch 97/100, train Loss: 0.0181, test Loss: 0.1131\n",
      "epoch 98/100, train Loss: 0.0181, test Loss: 0.1176\n",
      "epoch 99/100, train Loss: 0.0182, test Loss: 0.1102\n",
      "epoch 100/100, train Loss: 0.0181, test Loss: 0.1117\n"
     ]
    }
   ],
   "source": [
    "# initialize list to store losses\n",
    "train_losses = []\n",
    "test_losses = []\n",
    "\n",
    "# training loop\n",
    "num_epochs = 100\n",
    "\n",
    "for epoch in range(num_epochs):\n",
    "    model.train()     # set the model to training mode\n",
    "    train_loss = 0    # reset the training loss\n",
    "\n",
    "    for X_batch, y_batch in train_dataloader:\n",
    "        # move data to the device\n",
    "        X_batch, y_batch = X_batch.to(device), y_batch.to(device)\n",
    "\n",
    "        optimizer.zero_grad()\n",
    "        y_pred = model(X_batch).squeeze()\n",
    "        loss = criterion(y_pred, y_batch)\n",
    "        loss.backward()\n",
    "        optimizer.step()\n",
    "        train_loss += loss.item()\n",
    "\n",
    "    train_loss /= len(train_dataloader)\n",
    "    train_losses.append(train_loss)\n",
    "\n",
    "    # evaluation loop\n",
    "    model.eval()              # set the model to evaluation mode\n",
    "    test_loss = 0             # reset the test loss\n",
    "    with torch.no_grad():\n",
    "        for X_batch, y_batch in test_dataloader:\n",
    "            # move data to the device\n",
    "            X_batch, y_batch = X_batch.to(device), y_batch.to(device)\n",
    "\n",
    "            y_pred = model(X_batch).squeeze()\n",
    "            loss = criterion(y_pred, y_batch)\n",
    "            test_loss += loss.item()\n",
    "\n",
    "    test_loss /= len(test_dataloader)\n",
    "    test_losses.append(test_loss)\n",
    "\n",
    "    print(f\"epoch {epoch + 1}/{num_epochs}, train Loss: {train_loss:.4f}, test Loss: {test_loss:.4f}\")\n",
    "        "
   ]
  },
  {
   "cell_type": "markdown",
   "metadata": {},
   "source": [
    "#### Evaluating the model\n",
    "Sorta fun 😬. Let's plot the loss over epochs."
   ]
  },
  {
   "cell_type": "code",
   "execution_count": 10,
   "metadata": {},
   "outputs": [
    {
     "data": {
      "image/png": "[encoded data removed]",
      "text/plain": [
       "<Figure size 800x600 with 1 Axes>"
      ]
     },
     "metadata": {},
     "output_type": "display_data"
    }
   ],
   "source": [
    "\n",
    "plt.figure(figsize=(8, 6))\n",
    "plt.plot(range(1, num_epochs + 1), train_losses, label=\"Train Loss\", marker='o')\n",
    "plt.plot(range(1, num_epochs + 1), test_losses, label=\"Test Loss\", marker='o')\n",
    "plt.xlabel(\"Epoch\")\n",
    "plt.ylabel(\"Loss\")\n",
    "plt.title(\"Train and Test Loss Over Epochs\")\n",
    "plt.legend()\n",
    "plt.grid(True)\n",
    "plt.show()\n"
   ]
  },
  {
   "cell_type": "markdown",
   "metadata": {},
   "source": [
    "#### Build the recommendation function\n",
    "Now we're getting down to brass tacks..."
   ]
  },
  {
   "cell_type": "code",
   "execution_count": 11,
   "metadata": {},
   "outputs": [
    {
     "name": "stdout",
     "output_type": "stream",
     "text": [
      "index: 634, predicted similarity: 0.01, title: Fix to support Grappelli inlines.\n",
      "index: 36, predicted similarity: 0.00, title: Fix lzw decompression\n",
      "index: 353, predicted similarity: 0.00, title: Rubyfaraday fix downloadfile\n",
      "index: 714, predicted similarity: 0.00, title: Fix RTPReceiver getParameters\n",
      "index: 725, predicted similarity: 0.00, title: Fix WEBVIZURL\n"
     ]
    }
   ],
   "source": [
    "def recommend_with_nn(query_idx, tfidf_matrix, model, pr_df, top_n=5, device=torch.device('cpu')):\n",
    "    \"\"\"\n",
    "    recommend the most similar issues using the trained neural network model.\n",
    "    \n",
    "    parameters:\n",
    "    - query_idx: index of the query issue\n",
    "    - tfidf_matrix: tf-idf matrix\n",
    "    - model: trained neural network model\n",
    "    - pr_df: dataframe of the dataset\n",
    "    - top_n: number of top recommendations to return\n",
    "\n",
    "    returns:\n",
    "    - list of tuples (index, predicted similarity, title)\n",
    "    \"\"\"\n",
    "    # move model to the selected device\n",
    "    model = model.to(device)\n",
    "\n",
    "    query_vector = torch.tensor(\n",
    "                                tfidf_matrix[query_idx].toarray(), \n",
    "                                dtype=torch.float32\n",
    "                                ).flatten().to(device)\n",
    "                                \n",
    "\n",
    "    similarities = []\n",
    "    model.eval()                # set the model to evaluation mode\n",
    "    with torch.no_grad():\n",
    "        for idx in range(tfidf_matrix.shape[0]):\n",
    "            if idx != query_idx:\n",
    "                candidate_vector = torch.tensor(tfidf_matrix[idx].toarray(), dtype=torch.float32).flatten().to(device)\n",
    "                pair_vector = torch.cat([query_vector, candidate_vector], dim = 0).to(device)\n",
    "                pred_sim = model(pair_vector.unsqueeze(0)).item()\n",
    "                similarities.append((idx, pred_sim))\n",
    "\n",
    "    # sort by similarity\n",
    "    similarities = sorted(similarities, key=lambda x: x[1], reverse=True)\n",
    "    return [\n",
    "        (idx, score, pr_df.iloc[idx]['issue_title_clean'])\n",
    "        for idx, score in similarities[:top_n]\n",
    "    ]\n",
    "\n",
    "# example: recommend similar issues based on the first issue\n",
    "query_idx = 10  # index of the query issue\n",
    "recommendations = recommend_with_nn(\n",
    "    query_idx,\n",
    "    tfidf_matrix,\n",
    "    model,\n",
    "    pr_df,\n",
    "    top_n = 5,\n",
    "    device = device\n",
    ")\n",
    "\n",
    "for idx, score, title in recommendations:\n",
    "    print(f'index: {idx}, predicted similarity: {score:.2f}, title: {title}')"
   ]
  },
  {
   "cell_type": "markdown",
   "metadata": {},
   "source": [
    "Cool! It is what it is 😁\n",
    "\n",
    "Let's save the model so we can reuse it in the frontend."
   ]
  },
  {
   "cell_type": "code",
   "execution_count": 12,
   "metadata": {},
   "outputs": [],
   "source": [
    "torch.save(model.state_dict(), '../backend/models/model.pth')"
   ]
  }
 ],
 "metadata": {
  "kernelspec": {
   "display_name": "honkerdam_env",
   "language": "python",
   "name": "python3"
  },
  "language_info": {
   "codemirror_mode": {
    "name": "ipython",
    "version": 3
   },
   "file_extension": ".py",
   "mimetype": "text/x-python",
   "name": "python",
   "nbconvert_exporter": "python",
   "pygments_lexer": "ipython3",
   "version": "3.12.7"
  }
 },
 "nbformat": 4,
 "nbformat_minor": 2
}
