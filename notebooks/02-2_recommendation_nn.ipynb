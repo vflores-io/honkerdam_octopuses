{
 "cells": [
  {
   "cell_type": "markdown",
   "metadata": {},
   "source": [
    "# Simple Recommendation Model using Neural Network\n",
    "\n",
    "This is an attempt to use a Neural Network for a **simple** recommendation system. We will recycle some of the stuff from the first iteration. Let's go!\n",
    "\n",
    "Update, this version of the model training will use the `small_user_issues.csv` and do the title cleaning so that the rest of the data pipeline remains the same for the ML implementation."
   ]
  },
  {
   "cell_type": "code",
   "execution_count": 1,
   "metadata": {},
   "outputs": [],
   "source": [
    "import pandas as pd\n",
    "import numpy as np\n",
    "from sklearn.feature_extraction.text import TfidfVectorizer\n",
    "from sklearn.model_selection import train_test_split\n",
    "from sklearn.metrics.pairwise import cosine_similarity\n",
    "import scipy.sparse as sp\n",
    "\n",
    "import torch\n",
    "import torch.nn as nn\n",
    "import torch.optim as optim\n",
    "from torch.utils.data import Dataset, DataLoader\n",
    "\n",
    "from matplotlib import pyplot as plt"
   ]
  },
  {
   "cell_type": "markdown",
   "metadata": {},
   "source": [
    "#### Load the data\n",
    "We will load the previously (kinda) cleaned dataset, saved in a `parquet` file. This file containes a column `issue_title_clean` with the title of the issue isolated from the rest of the issue comments.\n",
    "\n",
    "Note that this file is only a subset of the whole dataset, with 10,000 samples only."
   ]
  },
  {
   "cell_type": "code",
   "execution_count": 2,
   "metadata": {},
   "outputs": [],
   "source": [
    "# # load a subset of the dataset\n",
    "# pr_df = pd.read_parquet(\"../data/intermediate_data/pr_df_clean_issues.parquet\")\n",
    "\n",
    "# # sanity check\n",
    "# assert 'issue_title_clean' in pr_df.columns, \"Missing 'issue_title_clean' in the dataset\"\n",
    "# pr_df = pr_df[pr_df['issue_title_clean'].notnull()]\n",
    "\n",
    "# print(f\"Dataset shape: {pr_df.shape}\")\n",
    "# print(f'The column names: {pr_df.columns}')\n",
    "# pr_df.head(3)\n"
   ]
  },
  {
   "cell_type": "code",
   "execution_count": 3,
   "metadata": {},
   "outputs": [
    {
     "name": "stdout",
     "output_type": "stream",
     "text": [
      "Dataset shape: (10000, 16)\n",
      "The column names: Index(['repo_owner', 'repo_name', 'issue_id', 'issue_number', 'issue_title',\n",
      "       'text_size', 'mock_number', 'public_repos', 'id', 'followers',\n",
      "       'location', 'bio', 'commits', 'public_gists', 'created_at',\n",
      "       'following'],\n",
      "      dtype='object')\n"
     ]
    },
    {
     "data": {
      "text/plain": [
       "0                      Title: WIP - v3\\nusername_0: \\n\n",
       "1    Title: [AppBar] Fix swipe to go back gesture f...\n",
       "2                                                  NaN\n",
       "3    Title: Add initial support for iOS, tvOS and w...\n",
       "4    Title: added fix for nav priority links render...\n",
       "Name: issue_title, dtype: object"
      ]
     },
     "execution_count": 3,
     "metadata": {},
     "output_type": "execute_result"
    }
   ],
   "source": [
    "pr_df = pd.read_csv(\"../small_user_issues.csv\")\n",
    "pr_df = pr_df.head(10000)\n",
    "\n",
    "print(f\"Dataset shape: {pr_df.shape}\")\n",
    "print(f'The column names: {pr_df.columns}')\n",
    "\n",
    "\n",
    "pr_df['issue_title'].head()"
   ]
  },
  {
   "cell_type": "code",
   "execution_count": 4,
   "metadata": {},
   "outputs": [
    {
     "name": "stdout",
     "output_type": "stream",
     "text": [
      "1346\n"
     ]
    }
   ],
   "source": [
    "# let's check if there are null values in this column\n",
    "print(pr_df['issue_title'].isnull().sum())"
   ]
  },
  {
   "cell_type": "code",
   "execution_count": 5,
   "metadata": {},
   "outputs": [
    {
     "name": "stdout",
     "output_type": "stream",
     "text": [
      "0\n"
     ]
    }
   ],
   "source": [
    "# remove null values\n",
    "pr_df = pr_df[pr_df['issue_title'].notnull()]\n",
    "\n",
    "# let's check again if there are null values in this column\n",
    "print(pr_df['issue_title'].isnull().sum())"
   ]
  },
  {
   "cell_type": "code",
   "execution_count": 6,
   "metadata": {},
   "outputs": [
    {
     "name": "stdout",
     "output_type": "stream",
     "text": [
      "0                                             WIP - v3\n",
      "1    [AppBar] Fix swipe to go back gesture for MDCA...\n",
      "3        Add initial support for iOS, tvOS and watchOS\n",
      "4    added fix for nav priority links rendering wit...\n",
      "5                    coqPackages.CoLoR: 1.4.0 -> 1.6.0\n",
      "Name: issue_title, dtype: object\n"
     ]
    }
   ],
   "source": [
    "# extract the issue title (leave the username_0 comment out for now)\n",
    "pr_df['issue_title'] = pr_df['issue_title'].str.split(\"username_0: \").str[0].str.strip()\n",
    "# print(pr_df.head())\n",
    "\n",
    "# now remove the redundant \"Title: \" prefix\n",
    "pr_df['issue_title'] = pr_df['issue_title'].str.replace(\"Title: \", \"\", regex=False)\n",
    "\n",
    "print(pr_df['issue_title'].head())"
   ]
  },
  {
   "cell_type": "code",
   "execution_count": 7,
   "metadata": {},
   "outputs": [
    {
     "name": "stdout",
     "output_type": "stream",
     "text": [
      "0                                               WIP v3\n",
      "1    AppBar Fix swipe to go back gesture for MDCApp...\n",
      "3        Add initial support for iOS, tvOS and watchOS\n",
      "4    added fix for nav priority links rendering wit...\n",
      "5                       coqPackages.CoLoR: 1.4.0 1.6.0\n",
      "Name: issue_title_clean, dtype: object\n"
     ]
    }
   ],
   "source": [
    "# let's remove special characters and markdown, whitespace\n",
    "import re\n",
    "\n",
    "def clean_text(text):\n",
    "    # remove markdown\n",
    "    text = re.sub(r'[#!\\[\\]<>\\-*_|]+', '', text)\n",
    "    # remove whitespace\n",
    "    text = re.sub(r'\\s+', ' ', text)\n",
    "    return text\n",
    "\n",
    "pr_df['issue_title_clean'] = pr_df['issue_title'].apply(clean_text)\n",
    "print(pr_df['issue_title_clean'].head())"
   ]
  },
  {
   "cell_type": "code",
   "execution_count": 8,
   "metadata": {},
   "outputs": [],
   "source": [
    "# save the cleaned data to disk for future use and a happy world\n",
    "pr_df.to_parquet(\"../data/intermediate_data/pr_df_clean_issues.parquet\", engine=\"pyarrow\")"
   ]
  },
  {
   "cell_type": "markdown",
   "metadata": {},
   "source": [
    "#### Generate the TF-IDF Matrix\n",
    "\n",
    "Here we go through the same step as the previous simple recommender system."
   ]
  },
  {
   "cell_type": "code",
   "execution_count": 9,
   "metadata": {},
   "outputs": [
    {
     "name": "stdout",
     "output_type": "stream",
     "text": [
      "TF-IDF matrix saved successfully!\n",
      "tf-idf matrix shape: (8654, 5000)\n",
      "Features: ['00' '01' '02' ... 'zookeeper' 'zoom' 'zsh']\n"
     ]
    }
   ],
   "source": [
    "# initialize the TF-IDF vectorizer\n",
    "vectorizer = TfidfVectorizer(stop_words = 'english', max_features = 5000)\n",
    "\n",
    "# generate the TF-IDF matrix\n",
    "tfidf_matrix = vectorizer.fit_transform(pr_df['issue_title_clean'])\n",
    "\n",
    "# save the tfidf matrix to use later on frontend\n",
    "sp.save_npz(\"../backend/models/tfidf_matrix.npz\", tfidf_matrix)\n",
    "\n",
    "print(\"TF-IDF matrix saved successfully!\")\n",
    "\n",
    "# let's take a look\n",
    "print(f'tf-idf matrix shape: {tfidf_matrix.shape}')\n",
    "print(f'Features: {vectorizer.get_feature_names_out()}')\n"
   ]
  },
  {
   "cell_type": "markdown",
   "metadata": {},
   "source": [
    "#### Create pairwise training data"
   ]
  },
  {
   "cell_type": "code",
   "execution_count": 10,
   "metadata": {},
   "outputs": [
    {
     "name": "stdout",
     "output_type": "stream",
     "text": [
      "train pairs: 29953224, test pairs: 7488307\n"
     ]
    }
   ],
   "source": [
    "# compute cosine similarity matrix\n",
    "cos_sim_matrix = cosine_similarity(tfidf_matrix)\n",
    "\n",
    "# generate pairs of indices and similarity scores\n",
    "pairs = []\n",
    "for i in range(len(cos_sim_matrix)):\n",
    "    for j in range(i+1, len(cos_sim_matrix)):\n",
    "        pairs.append((i, j, cos_sim_matrix[i, j]))\n",
    "\n",
    "# convert to dataframe\n",
    "pairs_df = pd.DataFrame(pairs, columns=['idx1', 'idx2', 'similarity'])\n",
    "\n",
    "# split into train and test sets\n",
    "train_pairs, test_pairs = train_test_split(pairs_df, test_size=0.2, random_state=42)\n",
    "\n",
    "\n",
    "print(f'train pairs: {len(train_pairs)}, test pairs: {len(test_pairs)}')"
   ]
  },
  {
   "cell_type": "markdown",
   "metadata": {},
   "source": [
    "NOTE: Both my computer and google colab are crashing. This is still a huge data to handle. So let's limit the pairs."
   ]
  },
  {
   "cell_type": "code",
   "execution_count": 11,
   "metadata": {},
   "outputs": [
    {
     "name": "stdout",
     "output_type": "stream",
     "text": [
      "train pairs: 30000, test pairs: 5000\n"
     ]
    }
   ],
   "source": [
    "train_pairs = train_pairs.sample(30000, random_state=42)\n",
    "test_pairs = test_pairs.sample(5000, random_state=42)\n",
    "\n",
    "print(f'train pairs: {len(train_pairs)}, test pairs: {len(test_pairs)}')"
   ]
  },
  {
   "cell_type": "markdown",
   "metadata": {},
   "source": [
    "#### Create a PyTorch dataset\n",
    "\n",
    "We will dynamically fetch the sparse vectors for each pair."
   ]
  },
  {
   "cell_type": "code",
   "execution_count": 12,
   "metadata": {},
   "outputs": [],
   "source": [
    "class PairwiseSimilarityDataset(Dataset):\n",
    "    def __init__(self, tfidf_matrix, pairs_df):\n",
    "        self.tfidf_matrix = tfidf_matrix\n",
    "        self.pairs_df = pairs_df\n",
    "\n",
    "    def __len__(self):\n",
    "        return len(self.pairs_df)\n",
    "    \n",
    "    def __getitem__(self, idx):\n",
    "        # get the pair of indices\n",
    "        row = self.pairs_df.iloc[idx]\n",
    "        idx1, idx2 = int(row['idx1']), int(row['idx2'])\n",
    "        similarity = float(row['similarity'])\n",
    "\n",
    "        # fetch the sparse vectors for the two issues\n",
    "        vector1 = self.tfidf_matrix[idx1].toarray().squeeze()\n",
    "        vector2 = self.tfidf_matrix[idx2].toarray().squeeze()\n",
    "\n",
    "        # concatenate the vectors\n",
    "        combined_vector = np.hstack([vector1, vector2])\n",
    "\n",
    "        return torch.tensor(combined_vector, dtype=torch.float32), torch.tensor(similarity, dtype=torch.float32)\n",
    "    "
   ]
  },
  {
   "cell_type": "markdown",
   "metadata": {},
   "source": [
    "Now we create the datasets with the custom class."
   ]
  },
  {
   "cell_type": "code",
   "execution_count": 13,
   "metadata": {},
   "outputs": [
    {
     "name": "stdout",
     "output_type": "stream",
     "text": [
      "train dataset size: 30000, test dataset size: 5000\n"
     ]
    }
   ],
   "source": [
    "# create datasets\n",
    "train_dataset = PairwiseSimilarityDataset(tfidf_matrix, train_pairs)\n",
    "test_dataset = PairwiseSimilarityDataset(tfidf_matrix, test_pairs)\n",
    "\n",
    "# create dataloaders\n",
    "train_dataloader = DataLoader(train_dataset, batch_size=32, shuffle=True)\n",
    "test_dataloader = DataLoader(test_dataset, batch_size=32, shuffle=False)\n",
    "\n",
    "print(f'train dataset size: {len(train_dataset)}, test dataset size: {len(test_dataset)}')"
   ]
  },
  {
   "cell_type": "markdown",
   "metadata": {},
   "source": [
    "#### Define the Neural Network\n",
    "Now for the fun part"
   ]
  },
  {
   "cell_type": "code",
   "execution_count": 14,
   "metadata": {},
   "outputs": [
    {
     "name": "stdout",
     "output_type": "stream",
     "text": [
      "Using CUDA (NVIDIA GPU): cuda\n",
      "SimilarityModel(\n",
      "  (fc1): Linear(in_features=10000, out_features=128, bias=True)\n",
      "  (fc2): Linear(in_features=128, out_features=64, bias=True)\n",
      "  (fc3): Linear(in_features=64, out_features=16, bias=True)\n",
      "  (fc4): Linear(in_features=16, out_features=1, bias=True)\n",
      "  (sigmoid): Sigmoid()\n",
      ")\n"
     ]
    }
   ],
   "source": [
    "class SimilarityModel(nn.Module):\n",
    "    def __init__(self, input_dim):\n",
    "        super(SimilarityModel, self).__init__()\n",
    "        self.fc1 = nn.Linear(input_dim, 128)\n",
    "        self.fc2 = nn.Linear(128, 64)\n",
    "        self.fc3 = nn.Linear(64, 16)\n",
    "        self.fc4 = nn.Linear(16, 1)\n",
    "        self.sigmoid = nn.Sigmoid()\n",
    "\n",
    "    def forward(self, x):\n",
    "        x = torch.relu(self.fc1(x))\n",
    "        x = torch.relu(self.fc2(x))\n",
    "        x = torch.relu(self.fc3(x))\n",
    "        x = self.sigmoid(self.fc4(x))\n",
    "        return x\n",
    "\n",
    "# initialize the model\n",
    "input_dim = tfidf_matrix.shape[1] * 2  # each pair has concatenated vectors\n",
    "model = SimilarityModel(input_dim)\n",
    "\n",
    "# check for available devices\n",
    "if torch.cuda.is_available():\n",
    "    device = torch.device('cuda')\n",
    "    print(f'Using CUDA (NVIDIA GPU): {device}')\n",
    "elif torch.backends.mps.is_available():\n",
    "    device = torch.device('mps')\n",
    "    print(f'Using MPS (Apple GPU): {device}')\n",
    "else:\n",
    "    device = torch.device('cpu')\n",
    "    print(f'Using CPU: {device}')\n",
    "\n",
    "# move the model to the device\n",
    "model.to(device)\n",
    "\n",
    "# define loss and optimizer\n",
    "criterion = nn.BCELoss()\n",
    "optimizer = optim.Adam(model.parameters(), lr=1e-3)\n",
    "\n",
    "print(model)"
   ]
  },
  {
   "cell_type": "markdown",
   "metadata": {},
   "source": [
    "#### Train the model\n",
    "Now for the even more fun part. Let's use GPU if available."
   ]
  },
  {
   "cell_type": "code",
   "execution_count": 15,
   "metadata": {},
   "outputs": [
    {
     "name": "stdout",
     "output_type": "stream",
     "text": [
      "epoch 1/25, train Loss: 0.0677, test Loss: 0.0373\n",
      "epoch 2/25, train Loss: 0.0332, test Loss: 0.0387\n",
      "epoch 3/25, train Loss: 0.0301, test Loss: 0.0400\n",
      "epoch 4/25, train Loss: 0.0274, test Loss: 0.0422\n",
      "epoch 5/25, train Loss: 0.0246, test Loss: 0.0460\n",
      "epoch 6/25, train Loss: 0.0223, test Loss: 0.0532\n",
      "epoch 7/25, train Loss: 0.0207, test Loss: 0.0601\n",
      "epoch 8/25, train Loss: 0.0199, test Loss: 0.0654\n",
      "epoch 9/25, train Loss: 0.0195, test Loss: 0.0732\n",
      "epoch 10/25, train Loss: 0.0191, test Loss: 0.0825\n",
      "epoch 11/25, train Loss: 0.0190, test Loss: 0.0862\n",
      "epoch 12/25, train Loss: 0.0189, test Loss: 0.0902\n",
      "epoch 13/25, train Loss: 0.0188, test Loss: 0.0871\n",
      "epoch 14/25, train Loss: 0.0187, test Loss: 0.0996\n",
      "epoch 15/25, train Loss: 0.0187, test Loss: 0.1051\n",
      "epoch 16/25, train Loss: 0.0186, test Loss: 0.1068\n",
      "epoch 17/25, train Loss: 0.0186, test Loss: 0.1010\n",
      "epoch 18/25, train Loss: 0.0186, test Loss: 0.0970\n",
      "epoch 19/25, train Loss: 0.0185, test Loss: 0.1054\n",
      "epoch 20/25, train Loss: 0.0185, test Loss: 0.1095\n",
      "epoch 21/25, train Loss: 0.0185, test Loss: 0.1054\n",
      "epoch 22/25, train Loss: 0.0185, test Loss: 0.1177\n",
      "epoch 23/25, train Loss: 0.0185, test Loss: 0.1221\n",
      "epoch 24/25, train Loss: 0.0184, test Loss: 0.1209\n",
      "epoch 25/25, train Loss: 0.0184, test Loss: 0.1249\n"
     ]
    }
   ],
   "source": [
    "# initialize list to store losses\n",
    "train_losses = []\n",
    "test_losses = []\n",
    "\n",
    "# training loop\n",
    "num_epochs = 25\n",
    "\n",
    "for epoch in range(num_epochs):\n",
    "    model.train()     # set the model to training mode\n",
    "    train_loss = 0    # reset the training loss\n",
    "\n",
    "    for X_batch, y_batch in train_dataloader:\n",
    "        # move data to the device\n",
    "        X_batch, y_batch = X_batch.to(device), y_batch.to(device)\n",
    "\n",
    "        optimizer.zero_grad()\n",
    "        y_pred = model(X_batch).squeeze()\n",
    "        loss = criterion(y_pred, y_batch)\n",
    "        loss.backward()\n",
    "        optimizer.step()\n",
    "        train_loss += loss.item()\n",
    "\n",
    "    train_loss /= len(train_dataloader)\n",
    "    train_losses.append(train_loss)\n",
    "\n",
    "    # evaluation loop\n",
    "    model.eval()              # set the model to evaluation mode\n",
    "    test_loss = 0             # reset the test loss\n",
    "    with torch.no_grad():\n",
    "        for X_batch, y_batch in test_dataloader:\n",
    "            # move data to the device\n",
    "            X_batch, y_batch = X_batch.to(device), y_batch.to(device)\n",
    "\n",
    "            y_pred = model(X_batch).squeeze()\n",
    "            loss = criterion(y_pred, y_batch)\n",
    "            test_loss += loss.item()\n",
    "\n",
    "    test_loss /= len(test_dataloader)\n",
    "    test_losses.append(test_loss)\n",
    "\n",
    "    print(f\"epoch {epoch + 1}/{num_epochs}, train Loss: {train_loss:.4f}, test Loss: {test_loss:.4f}\")\n",
    "        "
   ]
  },
  {
   "cell_type": "markdown",
   "metadata": {},
   "source": [
    "#### Evaluating the model\n",
    "Sorta fun 😬. Let's plot the loss over epochs."
   ]
  },
  {
   "cell_type": "code",
   "execution_count": 16,
   "metadata": {},
   "outputs": [
    {
     "data": {
      "image/png": "[encoded data removed]",
      "text/plain": [
       "<Figure size 800x600 with 1 Axes>"
      ]
     },
     "metadata": {},
     "output_type": "display_data"
    }
   ],
   "source": [
    "\n",
    "plt.figure(figsize=(8, 6))\n",
    "plt.plot(range(1, num_epochs + 1), train_losses, label=\"Train Loss\", marker='o')\n",
    "plt.plot(range(1, num_epochs + 1), test_losses, label=\"Test Loss\", marker='o')\n",
    "plt.xlabel(\"Epoch\")\n",
    "plt.ylabel(\"Loss\")\n",
    "plt.title(\"Train and Test Loss Over Epochs\")\n",
    "plt.legend()\n",
    "plt.grid(True)\n",
    "plt.show()\n"
   ]
  },
  {
   "cell_type": "markdown",
   "metadata": {},
   "source": [
    "#### Build the recommendation function\n",
    "Now we're getting down to brass tacks..."
   ]
  },
  {
   "cell_type": "code",
   "execution_count": 17,
   "metadata": {},
   "outputs": [
    {
     "name": "stdout",
     "output_type": "stream",
     "text": [
      "index: 4339, predicted similarity: 0.51, title: service:check add null check for validation config\n",
      "index: 5433, predicted similarity: 0.50, title: Change s3auth pom.xml to include a modified configuration for maveninvo...\n",
      "index: 6188, predicted similarity: 0.47, title: Added keyword for crossplatform and added a comma\n",
      "index: 4376, predicted similarity: 0.47, title: Basic proxy feature\n",
      "index: 911, predicted similarity: 0.45, title: new lint: `singlecharlifetimenames`\n"
     ]
    }
   ],
   "source": [
    "def recommend_with_nn(query_idx, tfidf_matrix, model, pr_df, top_n=5, device=torch.device('cpu')):\n",
    "    \"\"\"\n",
    "    recommend the most similar issues using the trained neural network model.\n",
    "    \n",
    "    parameters:\n",
    "    - query_idx: index of the query issue\n",
    "    - tfidf_matrix: tf-idf matrix\n",
    "    - model: trained neural network model\n",
    "    - pr_df: dataframe of the dataset\n",
    "    - top_n: number of top recommendations to return\n",
    "\n",
    "    returns:\n",
    "    - list of tuples (index, predicted similarity, title)\n",
    "    \"\"\"\n",
    "    # move model to the selected device\n",
    "    model = model.to(device)\n",
    "\n",
    "    query_vector = torch.tensor(\n",
    "                                tfidf_matrix[query_idx].toarray(), \n",
    "                                dtype=torch.float32\n",
    "                                ).flatten().to(device)\n",
    "                                \n",
    "\n",
    "    similarities = []\n",
    "    model.eval()                # set the model to evaluation mode\n",
    "    with torch.no_grad():\n",
    "        for idx in range(tfidf_matrix.shape[0]):\n",
    "            if idx != query_idx:\n",
    "                candidate_vector = torch.tensor(tfidf_matrix[idx].toarray(), dtype=torch.float32).flatten().to(device)\n",
    "                pair_vector = torch.cat([query_vector, candidate_vector], dim = 0).to(device)\n",
    "                pred_sim = model(pair_vector.unsqueeze(0)).item()\n",
    "                similarities.append((idx, pred_sim))\n",
    "\n",
    "    # sort by similarity\n",
    "    similarities = sorted(similarities, key=lambda x: x[1], reverse=True)\n",
    "    return [\n",
    "        (idx, score, pr_df.iloc[idx]['issue_title_clean'])\n",
    "        for idx, score in similarities[:top_n]\n",
    "    ]\n",
    "\n",
    "# example: recommend similar issues based on the first issue\n",
    "query_idx = 10  # index of the query issue\n",
    "recommendations = recommend_with_nn(\n",
    "    query_idx,\n",
    "    tfidf_matrix,\n",
    "    model,\n",
    "    pr_df,\n",
    "    top_n = 5,\n",
    "    device = device\n",
    ")\n",
    "\n",
    "for idx, score, title in recommendations:\n",
    "    print(f'index: {idx}, predicted similarity: {score:.2f}, title: {title}')"
   ]
  },
  {
   "cell_type": "markdown",
   "metadata": {},
   "source": [
    "Cool! It is what it is 😁\n",
    "\n",
    "Let's save the model so we can reuse it in the frontend."
   ]
  },
  {
   "cell_type": "code",
   "execution_count": 18,
   "metadata": {},
   "outputs": [],
   "source": [
    "torch.save(model.state_dict(), '../backend/models/model.pth')"
   ]
  }
 ],
 "metadata": {
  "kernelspec": {
   "display_name": "honkerdam_env",
   "language": "python",
   "name": "python3"
  },
  "language_info": {
   "codemirror_mode": {
    "name": "ipython",
    "version": 3
   },
   "file_extension": ".py",
   "mimetype": "text/x-python",
   "name": "python",
   "nbconvert_exporter": "python",
   "pygments_lexer": "ipython3",
   "version": "3.12.7"
  }
 },
 "nbformat": 4,
 "nbformat_minor": 2
}
