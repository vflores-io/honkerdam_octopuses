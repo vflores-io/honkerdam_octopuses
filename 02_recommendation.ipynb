{
 "cells": [
  {
   "cell_type": "markdown",
   "metadata": {},
   "source": [
    "# Simple Recommendation Model\n",
    "\n",
    "To get started with this, we will only use a very small portion of the pr_df clean dataset for now."
   ]
  },
  {
   "cell_type": "code",
   "execution_count": 46,
   "metadata": {},
   "outputs": [
    {
     "name": "stdout",
     "output_type": "stream",
     "text": [
      "Dataset shape: (414185, 14)\n",
      "The column names: ['repo', 'parent_repo', 'child_repo', 'issue_id', 'issue_number', 'issue', 'text_size', 'usernames', 'users', 'mock_number', 'issue_title', 'issue_comments', 'issue_title_clean', 'issue_comments_clean']\n"
     ]
    }
   ],
   "source": [
    "import polars as pl\n",
    "\n",
    "# load a subset of the dataset\n",
    "pr_df = pl.read_parquet(\"data/intermediate_data/pr_df_clean_issues.parquet\")\n",
    "\n",
    "print(f\"Dataset shape: {pr_df.shape}\")\n",
    "print(f'The column names: {pr_df.columns}')\n"
   ]
  },
  {
   "cell_type": "markdown",
   "metadata": {},
   "source": [
    "Now let's vectorize the text. We will use something like we did before, just with a smaller dataset to avoid catapulting my puny computer into the abyss of RAM hell."
   ]
  },
  {
   "cell_type": "code",
   "execution_count": 47,
   "metadata": {},
   "outputs": [
    {
     "name": "stdout",
     "output_type": "stream",
     "text": [
      "tf-idf matrix shape: (414185, 209167)\n"
     ]
    }
   ],
   "source": [
    "from sklearn.feature_extraction.text import TfidfVectorizer\n",
    "\n",
    "# vectorize the \"issue_title_clean\" column\n",
    "vectorizer = TfidfVectorizer(stop_words='english')\n",
    "tfidf_matrix = vectorizer.fit_transform(pr_df['issue_title_clean'])\n",
    "\n",
    "print(f'tf-idf matrix shape: {tfidf_matrix.shape}')"
   ]
  },
  {
   "cell_type": "markdown",
   "metadata": {},
   "source": [
    "## Build a Simple Recommendation Function\n",
    "\n",
    "We will compute similarities for a single query or item and recommend the most similar ones."
   ]
  },
  {
   "cell_type": "code",
   "execution_count": 49,
   "metadata": {},
   "outputs": [],
   "source": [
    "from sklearn.metrics.pairwise import cosine_similarity\n",
    "import numpy as np\n",
    "\n",
    "def recommend_issues(query_idx, tfidf_matrix, pr_df, top_n = 5):\n",
    "    \"\"\"\n",
    "    recommend the most similar issues based on a given query.\n",
    "    \n",
    "    parameters:\n",
    "    - query_idx: index of the query issue\n",
    "    - tfidf_matrix: tf-idf matrix\n",
    "    - pr_df: dataframe of the dataset, contains the issues\n",
    "    - top_n: number of top similar issues to return\n",
    "    \n",
    "    returns:\n",
    "    - list of top_n similar issues in tuples (index, simlarity_score, title)    \n",
    "    \"\"\"\n",
    "\n",
    "    # compute cosine similarity for the query\n",
    "    query_vector = tfidf_matrix[query_idx]\n",
    "    similarities = cosine_similarity(query_vector, tfidf_matrix).flatten()\n",
    "\n",
    "    # get the top N most similar items (exclude the query itself)\n",
    "    top_indices = np.argsort(similarities)[::-1][1:top_n+1]\n",
    "\n",
    "    recommendations = [\n",
    "        (\n",
    "            idx,\n",
    "            similarities[idx],\n",
    "            pr_df.row(idx)[pr_df.columns.index('issue_title_clean')]\n",
    "        ) for idx in top_indices\n",
    "    ]\n",
    "\n",
    "    return recommendations"
   ]
  },
  {
   "cell_type": "code",
   "execution_count": 50,
   "metadata": {},
   "outputs": [
    {
     "name": "stdout",
     "output_type": "stream",
     "text": [
      "index: 90698, similarity: 1.00, title: Title: WIP v3.1.0\n",
      "index: 335245, similarity: 0.84, title: Title: v3.0.0\n",
      "index: 41775, similarity: 0.84, title: Title: V3.0.2\n",
      "index: 97204, similarity: 0.84, title: Title: V3.6.x\n",
      "index: 349595, similarity: 0.84, title: Title: v3.0.2\n"
     ]
    }
   ],
   "source": [
    "# example: recommend similar issues for the first issue\n",
    "query_idx = 0\n",
    "recommendations = recommend_issues(query_idx, tfidf_matrix, pr_df, top_n = 5)\n",
    "\n",
    "for idx, score, title in recommendations:\n",
    "    print(f'index: {idx}, similarity: {score:.2f}, title: {title}')"
   ]
  },
  {
   "cell_type": "code",
   "execution_count": null,
   "metadata": {},
   "outputs": [],
   "source": []
  }
 ],
 "metadata": {
  "kernelspec": {
   "display_name": "honkerdam_env",
   "language": "python",
   "name": "python3"
  },
  "language_info": {
   "codemirror_mode": {
    "name": "ipython",
    "version": 3
   },
   "file_extension": ".py",
   "mimetype": "text/x-python",
   "name": "python",
   "nbconvert_exporter": "python",
   "pygments_lexer": "ipython3",
   "version": "3.12.7"
  }
 },
 "nbformat": 4,
 "nbformat_minor": 2
}
