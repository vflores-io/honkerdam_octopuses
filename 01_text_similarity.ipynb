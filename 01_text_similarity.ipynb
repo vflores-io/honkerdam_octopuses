{
 "cells": [
  {
   "cell_type": "markdown",
   "metadata": {},
   "source": [
    "# Text Similarity"
   ]
  },
  {
   "cell_type": "code",
   "execution_count": 1,
   "metadata": {},
   "outputs": [],
   "source": [
    "import pandas as pd\n",
    "\n"
   ]
  },
  {
   "cell_type": "code",
   "execution_count": 2,
   "metadata": {},
   "outputs": [
    {
     "name": "stdout",
     "output_type": "stream",
     "text": [
      "(10000, 10)\n",
      "Index(['repo', 'parent_repo', 'child_repo', 'issue_id', 'issue_number',\n",
      "       'issue', 'text_size', 'usernames', 'users', 'mock_number'],\n",
      "      dtype='object')\n"
     ]
    }
   ],
   "source": [
    "# load the clean (intermediate) data\n",
    "pr_df = pd.read_parquet(\"data/intermediate_data/pr_df.parquet\", engine=\"pyarrow\")\n",
    "pr_df = pr_df.head(10000)\n",
    "\n",
    "# check the shape\n",
    "print(pr_df.shape)\n",
    "\n",
    "# check the column names\n",
    "print(pr_df.columns)\n"
   ]
  },
  {
   "cell_type": "code",
   "execution_count": 3,
   "metadata": {},
   "outputs": [
    {
     "data": {
      "text/plain": [
       "0                         Title: WIP - v3\\nusername_0: \\n\n",
       "1       Title: [AppBar] Fix swipe to go back gesture f...\n",
       "2       Title: Add initial support for iOS, tvOS and w...\n",
       "3       Title: added fix for nav priority links render...\n",
       "4       Title: coqPackages.CoLoR: 1.4.0 -> 1.6.0\\nuser...\n",
       "                              ...                        \n",
       "9995    Title: server/zclient: Retry zebra message ver...\n",
       "9996    Title: Add Reason icon\\nusername_0: **Changes ...\n",
       "9997    Title: Avoid auto-hyphenation of code in the d...\n",
       "9998    Title: spark: activate R backend\\nusername_0: ...\n",
       "9999    Title: SliverChildDelegate should know which c...\n",
       "Name: issue, Length: 10000, dtype: object"
      ]
     },
     "execution_count": 3,
     "metadata": {},
     "output_type": "execute_result"
    }
   ],
   "source": [
    "# let's have a look at the `issues` column\n",
    "pr_df[\"issue\"]"
   ]
  },
  {
   "cell_type": "code",
   "execution_count": 4,
   "metadata": {},
   "outputs": [
    {
     "name": "stdout",
     "output_type": "stream",
     "text": [
      "0\n"
     ]
    }
   ],
   "source": [
    "# let's check if there are null values in this column\n",
    "print(pr_df[\"issue\"].isnull().sum())"
   ]
  },
  {
   "cell_type": "code",
   "execution_count": 5,
   "metadata": {},
   "outputs": [
    {
     "name": "stdout",
     "output_type": "stream",
     "text": [
      "0                      Title: WIP - v3\\nusername_0: \\n\n",
      "1    Title: [AppBar] Fix swipe to go back gesture f...\n",
      "2    Title: Add initial support for iOS, tvOS and w...\n",
      "3    Title: added fix for nav priority links render...\n",
      "4    Title: coqPackages.CoLoR: 1.4.0 -> 1.6.0\\nuser...\n",
      "Name: issue, dtype: object\n"
     ]
    }
   ],
   "source": [
    "# let's preprocess the text and lowercase everything and remove the \"title\" prefix\n",
    "print(pr_df['issue'].head())\n"
   ]
  },
  {
   "cell_type": "code",
   "execution_count": 6,
   "metadata": {},
   "outputs": [
    {
     "name": "stdout",
     "output_type": "stream",
     "text": [
      "                                          repo          parent_repo  \\\n",
      "0                       kaisermann/svelte-i18n           kaisermann   \n",
      "1  material-components/material-components-ios  material-components   \n",
      "2                                 dlang/phobos                dlang   \n",
      "3               patternfly/patternfly-elements           patternfly   \n",
      "4                                NixOS/nixpkgs                NixOS   \n",
      "\n",
      "                child_repo   issue_id  issue_number  \\\n",
      "0              svelte-i18n  550510104            40   \n",
      "1  material-components-ios  551064006          9444   \n",
      "2                   phobos  551980198          7355   \n",
      "3      patternfly-elements  552466427           686   \n",
      "4                  nixpkgs  553379763         78253   \n",
      "\n",
      "                                               issue  text_size  \\\n",
      "0                    Title: WIP - v3\\nusername_0: \\n       2398   \n",
      "1  Title: [AppBar] Fix swipe to go back gesture f...        355   \n",
      "2  Title: Add initial support for iOS, tvOS and w...       4306   \n",
      "3  Title: added fix for nav priority links render...       1995   \n",
      "4  Title: coqPackages.CoLoR: 1.4.0 -> 1.6.0\\nuser...       2544   \n",
      "\n",
      "                                           usernames            users  \\\n",
      "0                            [kaisermann,  elbourki]         elbourki   \n",
      "1                           [jverkoey,  bryanoltman]      bryanoltman   \n",
      "2  [wilzbach,  etcimon,  Geod24,  CyberShadow,  t...   jacob-carlborg   \n",
      "3                         [starryeyez024,  LyndseyR]         LyndseyR   \n",
      "4                                      [vbgl,  jpas]             jpas   \n",
      "\n",
      "   mock_number                                        issue_title  \n",
      "0        52812                                           WIP - v3  \n",
      "1        38978  [AppBar] Fix swipe to go back gesture for MDCA...  \n",
      "2        66742      Add initial support for iOS, tvOS and watchOS  \n",
      "3        14002  added fix for nav priority links rendering wit...  \n",
      "4        72876                  coqPackages.CoLoR: 1.4.0 -> 1.6.0  \n"
     ]
    }
   ],
   "source": [
    "# extract the issue title (leave the username_0 comment out for now)\n",
    "pr_df['issue_title'] = pr_df['issue'].str.split(\"username_0: \").str[0].str.strip()\n",
    "# print(pr_df.head())\n",
    "\n",
    "# now remove the redundant \"Title: \" prefix\n",
    "pr_df['issue_title'] = pr_df['issue_title'].str.replace(\"Title: \", \"\", regex=False)\n",
    "\n",
    "print(pr_df.head())"
   ]
  },
  {
   "cell_type": "code",
   "execution_count": 7,
   "metadata": {},
   "outputs": [],
   "source": [
    "# while we're are it, extract the user comments too\n",
    "pr_df['issue_comments'] = pr_df['issue'].str.split(\"username_0: \").str[1].str.strip()"
   ]
  },
  {
   "cell_type": "code",
   "execution_count": 8,
   "metadata": {},
   "outputs": [],
   "source": [
    "# let's remove special characters and markdown, whitespace\n",
    "import re\n",
    "\n",
    "def clean_text(text):\n",
    "    # remove markdown\n",
    "    text = re.sub(r'[#!\\[\\]<>\\-*_|]+', '', text)\n",
    "    # remove whitespace\n",
    "    text = re.sub(r'\\s+', ' ', text)\n",
    "    return text\n",
    "\n",
    "pr_df['issue_title_clean'] = pr_df['issue_title'].apply(clean_text)\n",
    "pr_df['issue_comments_clean'] = pr_df['issue_comments'].apply(clean_text)\n"
   ]
  },
  {
   "cell_type": "code",
   "execution_count": 9,
   "metadata": {},
   "outputs": [
    {
     "name": "stdout",
     "output_type": "stream",
     "text": [
      "0                                               WIP v3\n",
      "1    AppBar Fix swipe to go back gesture for MDCApp...\n",
      "2        Add initial support for iOS, tvOS and watchOS\n",
      "3    added fix for nav priority links rendering wit...\n",
      "4                       coqPackages.CoLoR: 1.4.0 1.6.0\n",
      "Name: issue_title_clean, dtype: object\n"
     ]
    },
    {
     "data": {
      "text/html": [
       "<div>\n",
       "<style scoped>\n",
       "    .dataframe tbody tr th:only-of-type {\n",
       "        vertical-align: middle;\n",
       "    }\n",
       "\n",
       "    .dataframe tbody tr th {\n",
       "        vertical-align: top;\n",
       "    }\n",
       "\n",
       "    .dataframe thead th {\n",
       "        text-align: right;\n",
       "    }\n",
       "</style>\n",
       "<table border=\"1\" class=\"dataframe\">\n",
       "  <thead>\n",
       "    <tr style=\"text-align: right;\">\n",
       "      <th></th>\n",
       "      <th>repo</th>\n",
       "      <th>parent_repo</th>\n",
       "      <th>child_repo</th>\n",
       "      <th>issue_id</th>\n",
       "      <th>issue_number</th>\n",
       "      <th>issue</th>\n",
       "      <th>text_size</th>\n",
       "      <th>usernames</th>\n",
       "      <th>users</th>\n",
       "      <th>mock_number</th>\n",
       "      <th>issue_title</th>\n",
       "      <th>issue_comments</th>\n",
       "      <th>issue_title_clean</th>\n",
       "      <th>issue_comments_clean</th>\n",
       "    </tr>\n",
       "  </thead>\n",
       "  <tbody>\n",
       "    <tr>\n",
       "      <th>0</th>\n",
       "      <td>kaisermann/svelte-i18n</td>\n",
       "      <td>kaisermann</td>\n",
       "      <td>svelte-i18n</td>\n",
       "      <td>550510104</td>\n",
       "      <td>40</td>\n",
       "      <td>Title: WIP - v3\\nusername_0: \\n</td>\n",
       "      <td>2398</td>\n",
       "      <td>[kaisermann,  elbourki]</td>\n",
       "      <td>elbourki</td>\n",
       "      <td>52812</td>\n",
       "      <td>WIP - v3</td>\n",
       "      <td></td>\n",
       "      <td>WIP v3</td>\n",
       "      <td></td>\n",
       "    </tr>\n",
       "    <tr>\n",
       "      <th>1</th>\n",
       "      <td>material-components/material-components-ios</td>\n",
       "      <td>material-components</td>\n",
       "      <td>material-components-ios</td>\n",
       "      <td>551064006</td>\n",
       "      <td>9444</td>\n",
       "      <td>Title: [AppBar] Fix swipe to go back gesture f...</td>\n",
       "      <td>355</td>\n",
       "      <td>[jverkoey,  bryanoltman]</td>\n",
       "      <td>bryanoltman</td>\n",
       "      <td>38978</td>\n",
       "      <td>[AppBar] Fix swipe to go back gesture for MDCA...</td>\n",
       "      <td>[AppBar] Fix swipe to go back gesture for MDCA...</td>\n",
       "      <td>AppBar Fix swipe to go back gesture for MDCApp...</td>\n",
       "      <td>AppBar Fix swipe to go back gesture for MDCApp...</td>\n",
       "    </tr>\n",
       "    <tr>\n",
       "      <th>2</th>\n",
       "      <td>dlang/phobos</td>\n",
       "      <td>dlang</td>\n",
       "      <td>phobos</td>\n",
       "      <td>551980198</td>\n",
       "      <td>7355</td>\n",
       "      <td>Title: Add initial support for iOS, tvOS and w...</td>\n",
       "      <td>4306</td>\n",
       "      <td>[wilzbach,  etcimon,  Geod24,  CyberShadow,  t...</td>\n",
       "      <td>jacob-carlborg</td>\n",
       "      <td>66742</td>\n",
       "      <td>Add initial support for iOS, tvOS and watchOS</td>\n",
       "      <td>I've only tested this on a 64 bit iPhone runni...</td>\n",
       "      <td>Add initial support for iOS, tvOS and watchOS</td>\n",
       "      <td>I've only tested this on a 64 bit iPhone runni...</td>\n",
       "    </tr>\n",
       "    <tr>\n",
       "      <th>3</th>\n",
       "      <td>patternfly/patternfly-elements</td>\n",
       "      <td>patternfly</td>\n",
       "      <td>patternfly-elements</td>\n",
       "      <td>552466427</td>\n",
       "      <td>686</td>\n",
       "      <td>Title: added fix for nav priority links render...</td>\n",
       "      <td>1995</td>\n",
       "      <td>[starryeyez024,  LyndseyR]</td>\n",
       "      <td>LyndseyR</td>\n",
       "      <td>14002</td>\n",
       "      <td>added fix for nav priority links rendering wit...</td>\n",
       "      <td>## Fix bug which causes arrows to appear on pr...</td>\n",
       "      <td>added fix for nav priority links rendering wit...</td>\n",
       "      <td>Fix bug which causes arrows to appear on prim...</td>\n",
       "    </tr>\n",
       "    <tr>\n",
       "      <th>4</th>\n",
       "      <td>NixOS/nixpkgs</td>\n",
       "      <td>NixOS</td>\n",
       "      <td>nixpkgs</td>\n",
       "      <td>553379763</td>\n",
       "      <td>78253</td>\n",
       "      <td>Title: coqPackages.CoLoR: 1.4.0 -&gt; 1.6.0\\nuser...</td>\n",
       "      <td>2544</td>\n",
       "      <td>[vbgl,  jpas]</td>\n",
       "      <td>jpas</td>\n",
       "      <td>72876</td>\n",
       "      <td>coqPackages.CoLoR: 1.4.0 -&gt; 1.6.0</td>\n",
       "      <td>&lt;!-- Nixpkgs has a lot of new incoming Pull Re...</td>\n",
       "      <td>coqPackages.CoLoR: 1.4.0 1.6.0</td>\n",
       "      <td>Nixpkgs has a lot of new incoming Pull Reques...</td>\n",
       "    </tr>\n",
       "  </tbody>\n",
       "</table>\n",
       "</div>"
      ],
      "text/plain": [
       "                                          repo          parent_repo  \\\n",
       "0                       kaisermann/svelte-i18n           kaisermann   \n",
       "1  material-components/material-components-ios  material-components   \n",
       "2                                 dlang/phobos                dlang   \n",
       "3               patternfly/patternfly-elements           patternfly   \n",
       "4                                NixOS/nixpkgs                NixOS   \n",
       "\n",
       "                child_repo   issue_id  issue_number  \\\n",
       "0              svelte-i18n  550510104            40   \n",
       "1  material-components-ios  551064006          9444   \n",
       "2                   phobos  551980198          7355   \n",
       "3      patternfly-elements  552466427           686   \n",
       "4                  nixpkgs  553379763         78253   \n",
       "\n",
       "                                               issue  text_size  \\\n",
       "0                    Title: WIP - v3\\nusername_0: \\n       2398   \n",
       "1  Title: [AppBar] Fix swipe to go back gesture f...        355   \n",
       "2  Title: Add initial support for iOS, tvOS and w...       4306   \n",
       "3  Title: added fix for nav priority links render...       1995   \n",
       "4  Title: coqPackages.CoLoR: 1.4.0 -> 1.6.0\\nuser...       2544   \n",
       "\n",
       "                                           usernames            users  \\\n",
       "0                            [kaisermann,  elbourki]         elbourki   \n",
       "1                           [jverkoey,  bryanoltman]      bryanoltman   \n",
       "2  [wilzbach,  etcimon,  Geod24,  CyberShadow,  t...   jacob-carlborg   \n",
       "3                         [starryeyez024,  LyndseyR]         LyndseyR   \n",
       "4                                      [vbgl,  jpas]             jpas   \n",
       "\n",
       "   mock_number                                        issue_title  \\\n",
       "0        52812                                           WIP - v3   \n",
       "1        38978  [AppBar] Fix swipe to go back gesture for MDCA...   \n",
       "2        66742      Add initial support for iOS, tvOS and watchOS   \n",
       "3        14002  added fix for nav priority links rendering wit...   \n",
       "4        72876                  coqPackages.CoLoR: 1.4.0 -> 1.6.0   \n",
       "\n",
       "                                      issue_comments  \\\n",
       "0                                                      \n",
       "1  [AppBar] Fix swipe to go back gesture for MDCA...   \n",
       "2  I've only tested this on a 64 bit iPhone runni...   \n",
       "3  ## Fix bug which causes arrows to appear on pr...   \n",
       "4  <!-- Nixpkgs has a lot of new incoming Pull Re...   \n",
       "\n",
       "                                   issue_title_clean  \\\n",
       "0                                             WIP v3   \n",
       "1  AppBar Fix swipe to go back gesture for MDCApp...   \n",
       "2      Add initial support for iOS, tvOS and watchOS   \n",
       "3  added fix for nav priority links rendering wit...   \n",
       "4                     coqPackages.CoLoR: 1.4.0 1.6.0   \n",
       "\n",
       "                                issue_comments_clean  \n",
       "0                                                     \n",
       "1  AppBar Fix swipe to go back gesture for MDCApp...  \n",
       "2  I've only tested this on a 64 bit iPhone runni...  \n",
       "3   Fix bug which causes arrows to appear on prim...  \n",
       "4   Nixpkgs has a lot of new incoming Pull Reques...  "
      ]
     },
     "execution_count": 9,
     "metadata": {},
     "output_type": "execute_result"
    }
   ],
   "source": [
    "print(pr_df['issue_title_clean'].head())\n",
    "pr_df.head()\n"
   ]
  },
  {
   "cell_type": "code",
   "execution_count": 10,
   "metadata": {},
   "outputs": [],
   "source": [
    "# save the cleaned data to disk for future use and a happy world\n",
    "pr_df.to_parquet(\"data/intermediate_data/pr_df_clean_issues.parquet\", engine=\"pyarrow\")"
   ]
  },
  {
   "cell_type": "markdown",
   "metadata": {},
   "source": [
    "## Now the fun stuff\n",
    "\n",
    "### 1. Vectorize the Text\n",
    "\n",
    "We'll convert the `issue_title_cleaned` column into numerical representations using **TF-IDF** (Term Frequency-Inverse Document Frequency). This method is ideal for capturing the importance of words in a document relative to the dataset."
   ]
  },
  {
   "cell_type": "code",
   "execution_count": 11,
   "metadata": {},
   "outputs": [],
   "source": [
    "from sklearn.feature_extraction.text import TfidfVectorizer\n",
    "\n",
    "# convert cleaned issue titles into a list\n",
    "issue_titles = pr_df['issue_title_clean'].dropna().tolist()\n",
    "\n",
    "# initialize and fit the tf-idf vectorizer\n",
    "vectorizer = TfidfVectorizer(stop_words = 'english')    # remove common stop words\n",
    "tfidf_matrix = vectorizer.fit_transform(issue_titles)\n"
   ]
  },
  {
   "cell_type": "markdown",
   "metadata": {},
   "source": [
    "The output matrix is a sparse matrix where each row represents an issue title as a vector."
   ]
  },
  {
   "cell_type": "code",
   "execution_count": 12,
   "metadata": {},
   "outputs": [
    {
     "name": "stdout",
     "output_type": "stream",
     "text": [
      "TF-IDF matrix shape: (10000, 13209)\n"
     ]
    }
   ],
   "source": [
    "print(f'TF-IDF matrix shape: {tfidf_matrix.shape}')"
   ]
  },
  {
   "cell_type": "markdown",
   "metadata": {},
   "source": [
    "Now we compute text similarities. We use the TF-IDF matrix to calculate pairwise cosine similarity, which measures how similar each issue title is to the others.\n",
    "\n",
    "NOTE: I tried to run this code:\n",
    "```py\n",
    "from sklearn.metrics.pairwise import cosine_similarity\n",
    "\n",
    "# calculate cosine similarity between issue titles\n",
    "similarity_matrix = cosine_similarity(tfidf_matrix, dense_output=False)\n",
    "```\n",
    "\n",
    "but the jupyter kernel crashed. Probably the data set is too large. Let's try querying one single issue and compare it.\n"
   ]
  },
  {
   "cell_type": "code",
   "execution_count": 13,
   "metadata": {},
   "outputs": [
    {
     "name": "stdout",
     "output_type": "stream",
     "text": [
      "similarity: 1.00 | title: WIP v3\n",
      "similarity: 0.68 | title: Feat/v3\n",
      "similarity: 0.66 | title: Fixes for v3.0.4\n",
      "similarity: 0.62 | title: bump to v3.8.5\n",
      "similarity: 0.56 | title: WIP\n",
      "similarity: 0.56 | title: WIP\n",
      "similarity: 0.56 | title: WIP: See also\n",
      "similarity: 0.50 | title: Slim v3\n",
      "similarity: 0.46 | title: v3.6.0 with array helper\n",
      "similarity: 0.44 | title: Bittrex api v3\n"
     ]
    }
   ],
   "source": [
    "from sklearn.metrics.pairwise import cosine_similarity\n",
    "\n",
    "query_idx = 0 \n",
    "query_vector = tfidf_matrix[query_idx]\n",
    "\n",
    "# compute similarity of the query issue with all others\n",
    "similarity_scores = cosine_similarity(query_vector, tfidf_matrix).flatten()\n",
    "\n",
    "# get the top N most similar issues\n",
    "top_indices = similarity_scores.argsort()[::-1][:10]\n",
    "for i in top_indices:\n",
    "    print(f\"similarity: {similarity_scores[i]:.2f} | title: {issue_titles[i]}\")\n"
   ]
  },
  {
   "cell_type": "markdown",
   "metadata": {},
   "source": [
    "Now, that works, which means we can work in chunks. But before we try that, let's still try something else. Let's try using **FAISS** (Facebook AI Similarity Search).\n",
    "\n",
    "Note: Well that failed too. I did this:\n",
    "\n",
    "```py\n",
    "import faiss\n",
    "import numpy as np\n",
    "\n",
    "# convert the tf-idf matrix to numpy array\n",
    "dense_matrix = tfidf_matrix.toarray()\n",
    "\n",
    "# build faiss index\n",
    "dimension = dense_matrix.shape[1]             # number of features\n",
    "index = faiss.IndexFlatL2(dimension)          # build the index\n",
    "index.add(dense_matrix.astype(np.float32))    # add vectors to the index\n",
    "```\n",
    "\n",
    "So I guess I will resort to using the previous method but in chunks.\n",
    "\n",
    "We will process the rows of the TF-IDF matrix in manageable chunks and compute similarities agains the entire dataset."
   ]
  },
  {
   "cell_type": "code",
   "execution_count": 14,
   "metadata": {},
   "outputs": [],
   "source": [
    "from sklearn.metrics.pairwise import cosine_similarity\n",
    "import scipy.sparse as sp\n",
    "import os\n",
    "\n",
    "def compute_chunked_similarity(tfidf_matrix, chunk_size=1000, output_dir = \"data/intermediate_data/similarity_chunks/\"):\n",
    "    \"\"\"\n",
    "    compute cosine similarity in chunks to prevent memory overload.\n",
    "\n",
    "    parameters:\n",
    "    - tfidf_matrix: sparse matrix (tf-idf representation)\n",
    "    - chunk_size: number of rows to process in each chunk\n",
    "\n",
    "    returns:\n",
    "    - sparse similarity matrix\n",
    "    \"\"\"\n",
    "\n",
    "    num_rows = tfidf_matrix.shape[0]\n",
    "    similarity_chunks = []\n",
    "\n",
    "    for start_idx in range(0, num_rows, chunk_size):\n",
    "        end_idx = min(start_idx + chunk_size, num_rows)\n",
    "        print(f'processing rows {start_idx} to {end_idx}... ')\n",
    "\n",
    "        # compute similarity for the current chunk\n",
    "        chunk = tfidf_matrix[start_idx:end_idx]\n",
    "        chunk_similarity = cosine_similarity(chunk, tfidf_matrix, dense_output = False)\n",
    "\n",
    "        assert chunk_similarity.shape[1] == tfidf_matrix.shape[0], \"Chunk similarity shape does not match tfidf matrix shape\"\n",
    "\n",
    "        # save the sparse similarity matrix to disk to avoid RAM overload\n",
    "        output_path = os.path.join(output_dir, f'similarity_chunk_{start_idx}_{end_idx}.npz')\n",
    "        sp.save_npz(output_path, chunk_similarity)\n",
    "\n",
    "    print(\"all chunks processed and saved\")"
   ]
  },
  {
   "cell_type": "markdown",
   "metadata": {},
   "source": [
    "The above \"solution\" is still quite a lot for my computer. So I just ran it once and produced some chunks for the similarity. Below is how one would run it:\n",
    "\n",
    "```py\n",
    "# run the cosine similarity in chunks\n",
    "similarity_matrix = compute_chunked_similarity(tfidf_matrix, chunk_size=1000)\n",
    "```"
   ]
  }
 ],
 "metadata": {
  "kernelspec": {
   "display_name": "honkerdam_env",
   "language": "python",
   "name": "python3"
  },
  "language_info": {
   "codemirror_mode": {
    "name": "ipython",
    "version": 3
   },
   "file_extension": ".py",
   "mimetype": "text/x-python",
   "name": "python",
   "nbconvert_exporter": "python",
   "pygments_lexer": "ipython3",
   "version": "3.12.7"
  }
 },
 "nbformat": 4,
 "nbformat_minor": 2
}
