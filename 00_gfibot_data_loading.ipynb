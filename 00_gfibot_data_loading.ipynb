{
 "cells": [
  {
   "cell_type": "markdown",
   "metadata": {},
   "source": [
    "# Scratchpad\n",
    "\n",
    "Over here I will start playing around with stuff and see what sticks/works!"
   ]
  },
  {
   "cell_type": "markdown",
   "metadata": {},
   "source": [
    "Here are some of the steps I took to get to the point where I was able to access the database.\n",
    "1. Downloaded the database `dump.zip` file into the `data` folder\n",
    "2. Installed mongodb via brew (see instructions [here](https://www.mongodb.com/docs/manual/tutorial/install-mongodb-on-os-x/?msockid=302ca59c4ee16b1d2d8fb14e4fe96a19))\n",
    "3. Started the MongoDB server: `brew services start mongodb-community@8.0`\n",
    "4. Checked that MongoDB was running: `brew services list`\n",
    "5. List all the databases: first entered the mongo shell by `mongosh` and then listing the databases from the shell `show dbs`\n",
    "6. Navigated to the data folder (wherein the extracted `dump` folder is), opened a terminal there\n",
    "7. mongorestore --uri=\"mongodb://localhost:27017\" --gzip\n",
    "8. `use gfibot`\n",
    "9. `show collections`\n",
    "10. Moved over to this jupyter notebook. Note that I had to install the pymongo library beforehand.\n"
   ]
  },
  {
   "cell_type": "code",
   "execution_count": null,
   "metadata": {},
   "outputs": [],
   "source": [
    "# imports\n",
    "import polars as pl\n",
    "import pandas as pd\n",
    "from pymongo import MongoClient\n",
    "#"
   ]
  },
  {
   "cell_type": "markdown",
   "metadata": {},
   "source": [
    "Here we will connect to MongoDB and access the database and collections"
   ]
  },
  {
   "cell_type": "code",
   "execution_count": null,
   "metadata": {},
   "outputs": [],
   "source": [
    "# connect to MongoDB\n",
    "client = MongoClient('localhost', 27017)\n",
    "\n",
    "# access the database and collections\n",
    "db = client['gfibot']\n",
    "dataset_collection = db['dataset']\n",
    "resolved_issue_collection = db['resolved_issue']"
   ]
  },
  {
   "cell_type": "code",
   "execution_count": null,
   "metadata": {},
   "outputs": [],
   "source": [
    "# fetch a sample document from the 'dataset' collection\n",
    "sample_doc = dataset_collection.find_one()\n",
    "print(\"Sample document from 'dataset' collection:\", sample_doc)\n",
    "\n",
    "# count the number of documents in each collection\n",
    "print(\"Number of documents in 'dataset' collection:\", dataset_collection.count_documents({}))\n",
    "print(\"Number of documents in 'resolved_issues' collection:\", resolved_issue_collection.count_documents({}))"
   ]
  },
  {
   "cell_type": "markdown",
   "metadata": {},
   "source": [
    "After that noobie attempt at exploring the dataset, let's import as a dataframe. Let's try polars!"
   ]
  },
  {
   "cell_type": "code",
   "execution_count": null,
   "metadata": {},
   "outputs": [],
   "source": [
    "# fetch documents (limit for large datasets)\n",
    "dataset_docs = list(dataset_collection.find().limit(1000))\n",
    "\n",
    "# conver to pandas df\n",
    "pandas_df = pd.DataFrame(dataset_docs)\n",
    "\n",
    "# convert to polars df\n",
    "polars_df = pl.DataFrame(dataset_docs)\n",
    "\n",
    "# print the first few rows\n",
    "print(polars_df.head(5))\n",
    "# print(pandas_df.head(5))"
   ]
  },
  {
   "cell_type": "markdown",
   "metadata": {},
   "source": [
    "Let's do some exploration..."
   ]
  },
  {
   "cell_type": "code",
   "execution_count": null,
   "metadata": {},
   "outputs": [],
   "source": [
    "# print the columns and the data types\n",
    "print(\"number of columns in df:\", len(polars_df.columns))\n",
    "\n",
    "for col, dtype in zip(polars_df.columns, polars_df.dtypes):\n",
    "    print(f\"{col}: {dtype}\")\n"
   ]
  },
  {
   "cell_type": "code",
   "execution_count": null,
   "metadata": {},
   "outputs": [],
   "source": [
    "polars_df\n"
   ]
  }
 ],
 "metadata": {
  "kernelspec": {
   "display_name": "honkerdam_env",
   "language": "python",
   "name": "python3"
  },
  "language_info": {
   "codemirror_mode": {
    "name": "ipython",
    "version": 3
   },
   "file_extension": ".py",
   "mimetype": "text/x-python",
   "name": "python",
   "nbconvert_exporter": "python",
   "pygments_lexer": "ipython3",
   "version": "3.12.7"
  }
 },
 "nbformat": 4,
 "nbformat_minor": 2
}
